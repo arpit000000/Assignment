{
  "nbformat": 4,
  "nbformat_minor": 0,
  "metadata": {
    "colab": {
      "provenance": [],
      "toc_visible": true,
      "authorship_tag": "ABX9TyMEM1bRAFdt9yv8VIcjU8SJ",
      "include_colab_link": true
    },
    "kernelspec": {
      "name": "python3",
      "display_name": "Python 3"
    },
    "language_info": {
      "name": "python"
    }
  },
  "cells": [
    {
      "cell_type": "markdown",
      "metadata": {
        "id": "view-in-github",
        "colab_type": "text"
      },
      "source": [
        "<a href=\"https://colab.research.google.com/github/arpit000000/Assignment/blob/main/statistic_assign_3_8th_march.ipynb\" target=\"_parent\"><img src=\"https://colab.research.google.com/assets/colab-badge.svg\" alt=\"Open In Colab\"/></a>"
      ]
    },
    {
      "cell_type": "markdown",
      "source": [
        "Q1. Probability Density Function (PDF):\n",
        "\n",
        "In probability theory and statistics, the Probability Density Function (PDF) is a function that describes the likelihood of a continuous random variable taking on a particular value. The PDF is used to characterize the probability distribution of a continuous random variable and provides the probability of the random variable falling within a specific range of values. Unlike the probability mass function (PMF) used for discrete random variables, the PDF is defined for continuous random variables and represents probabilities over intervals rather than individual points.\n",
        "\n",
        "Q2. Types of Probability Distribution:\n",
        "\n",
        "There are several types of probability distributions, and some of the most common ones include:\n",
        "\n",
        "Normal Distribution,Uniform Distribution,Exponential Distribution,PoissonDistribution,Binomial Distribution,Log-Normal Distribution"
      ],
      "metadata": {
        "id": "H8ghw3jL17YB"
      }
    },
    {
      "cell_type": "markdown",
      "source": [
        "Q3. Write a Python function to calculate the probability density function of a normal distribution with\n",
        "given mean and standard deviation at a given point."
      ],
      "metadata": {
        "id": "6ZUNGfjk5FL-"
      }
    },
    {
      "cell_type": "code",
      "source": [
        "import math\n",
        "def normal(x,var,mean):\n",
        "  m=1/(var*(2*math.pi)**.5)\n",
        "  exp=((x-mean)/var)**2\n",
        "  nor=m*math.exp(exp)\n",
        "  return nor"
      ],
      "metadata": {
        "id": "it6H5L8Y1_B-"
      },
      "execution_count": 6,
      "outputs": []
    },
    {
      "cell_type": "code",
      "source": [
        "print(normal(5,16,3))"
      ],
      "metadata": {
        "colab": {
          "base_uri": "https://localhost:8080/"
        },
        "id": "pb0y-qE26tjy",
        "outputId": "dafeebcf-24f9-43d8-91fe-f93db2fafad4"
      },
      "execution_count": 7,
      "outputs": [
        {
          "output_type": "stream",
          "name": "stdout",
          "text": [
            "0.025326544198506395\n"
          ]
        }
      ]
    },
    {
      "cell_type": "markdown",
      "source": [
        "Q4. Properties of Binomial Distribution:\n",
        "\n",
        "The binomial distribution describes the number of successes in a fixed number of independent Bernoulli trials.\n",
        "It is characterized by two parameters: 'n' (number of trials) and 'p' (probability of success in each trial).\n",
        "The probability mass function (PMF) of the binomial distribution is given by: P(X=k) = (n choose k) * p^k * (1-p)^(n-k), where (n choose k) is the binomial coefficient.\n",
        "The mean of the binomial distribution is μ = n * p.\n",
        "The variance of the binomial distribution is σ^2 = n * p * (1 - p).\n",
        "The events must be independent and mutually exclusive (e.g., a coin flip is a binomial distribution as it has two mutually exclusive outcomes: heads or tails).\n",
        "Two examples of events where the binomial distribution can be applied:\n",
        "\n",
        "Flipping a coin multiple times and counting the number of heads obtained.\n",
        "Conducting a survey and calculating the number of people who answered \"yes\" to a specific question."
      ],
      "metadata": {
        "id": "4PAsNFUZ5CyB"
      }
    },
    {
      "cell_type": "markdown",
      "source": [
        "Q5. Generate a random sample of size 1000 from a binomial distribution with a probability of success 0.4 and plot a histogram using matplotlib:"
      ],
      "metadata": {
        "id": "dL-u-tYC5Nqf"
      }
    },
    {
      "cell_type": "code",
      "source": [
        "import numpy as np\n",
        "import matplotlib.pyplot as plt\n",
        "\n",
        "# Generate random sample\n",
        "sample_size = 1000\n",
        "probability_of_success = 0.4\n",
        "random_sample = np.random.binomial(1, probability_of_success, sample_size)\n",
        "\n",
        "# Plot histogram\n",
        "plt.hist(random_sample)\n",
        "\n",
        "plt.xlabel('Success (1) / Failure (0)')\n",
        "plt.ylabel('Frequency')\n",
        "plt.title('Histogram of Binomial Distribution')\n",
        "plt.show()\n",
        "\n",
        "\n",
        "\n",
        "\n"
      ],
      "metadata": {
        "colab": {
          "base_uri": "https://localhost:8080/",
          "height": 472
        },
        "id": "gAQEMF7S5DeP",
        "outputId": "d1a08b8c-514b-4d3e-dfab-73f97638d11c"
      },
      "execution_count": 5,
      "outputs": [
        {
          "output_type": "display_data",
          "data": {
            "text/plain": [
              "<Figure size 640x480 with 1 Axes>"
            ],
            "image/png": "[encoded data removed]"
          },
          "metadata": {}
        }
      ]
    },
    {
      "cell_type": "markdown",
      "source": [
        "Q6. Python function to calculate the cumulative distribution function of a Poisson distribution:"
      ],
      "metadata": {
        "id": "ouMLC79u6Nke"
      }
    },
    {
      "cell_type": "code",
      "source": [
        "import math\n",
        "def cum_sum(x,mean):\n",
        "  for i in range(x+1):\n",
        "    cdf+=(math.exp(-mean)*(mean**x))/(math.factorial(x))\n",
        "    return cdf"
      ],
      "metadata": {
        "id": "_3Im-ZD85onO"
      },
      "execution_count": 8,
      "outputs": []
    },
    {
      "cell_type": "markdown",
      "source": [
        "Q7. Difference between Binomial distribution and Poisson distribution:\n",
        "\n",
        "The binomial distribution is used to model the number of successes in a fixed number of independent Bernoulli trials, where each trial has two possible outcomes (success or failure). The number of trials and the probability of success remain constant.\n",
        "The Poisson distribution, on the other hand, models the number of events occurring in a fixed interval of time or space, given a known average rate of occurrence. The events must occur independently, and the average rate remains constant."
      ],
      "metadata": {
        "id": "yPXlPkdC7wvW"
      }
    },
    {
      "cell_type": "markdown",
      "source": [
        "Q8. Generate a random sample of size 1000 from a Poisson distribution with a mean of 5 and calculate the sample mean and variance:"
      ],
      "metadata": {
        "id": "nIxIFYSd8J0h"
      }
    },
    {
      "cell_type": "code",
      "source": [
        "import numpy as np\n",
        "\n",
        "# Generate random sample\n",
        "sample_size = 1000\n",
        "mean = 5\n",
        "random_sample = np.random.poisson(mean, sample_size)\n",
        "\n",
        "# Calculate sample mean and variance\n",
        "sample_mean = np.mean(random_sample)\n",
        "sample_variance = np.var(random_sample)\n",
        "\n",
        "print(\"Sample Mean:\", sample_mean)\n",
        "print(\"Sample Variance:\", sample_variance)\n"
      ],
      "metadata": {
        "colab": {
          "base_uri": "https://localhost:8080/"
        },
        "id": "Wwt_MjM-7qZR",
        "outputId": "ee40a9f4-9040-4eb3-c9fb-c30dddbb7a12"
      },
      "execution_count": 9,
      "outputs": [
        {
          "output_type": "stream",
          "name": "stdout",
          "text": [
            "Sample Mean: 4.923\n",
            "Sample Variance: 5.099071\n"
          ]
        }
      ]
    },
    {
      "cell_type": "markdown",
      "source": [
        "Q9. Relationship between mean and variance in Binomial and Poisson distributions:\n",
        "\n",
        "In the binomial distribution, the mean (μ) is equal to n * p, where 'n' is the number of trials and 'p' is the probability of success in each trial. The variance (σ^2) is equal to n * p * (1 - p).\n",
        "In the Poisson distribution, both the mean (μ) and the variance (σ^2) are equal and are represented by λ (lambda), the average rate of occurrence.\n",
        "\n",
        "Q10. In a normal distribution, the data is symmetric around the mean.\n",
        "\n",
        "The least frequent data points (outliers) tend to appear in the tails of the distribution, far from the mean. In a standard normal distribution (mean=0, standard deviation=1), the least frequent data appears in the tails towards the positive and negative extremes of the x-axis. However, in a normal distribution with a specific mean, the least frequent data points would be located at the tails that are farthest from the mean value."
      ],
      "metadata": {
        "id": "t7BHZi5h7yY9"
      }
    }
  ]
}