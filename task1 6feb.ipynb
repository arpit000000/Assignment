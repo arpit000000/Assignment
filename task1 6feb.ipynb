{
 "cells": [
  {
   "cell_type": "markdown",
   "id": "9688d8e3-33cc-47b3-86d1-37bd49f17b18",
   "metadata": {},
   "source": [
    "Q2. Write a python program for encrypting a message sent to you by your friend. The logic of encryption\n",
    "should be such that, for a the output should be z. For b, the output should be y. For c, the output should\n",
    "be x respectively. Also, the whitespace should be replaced with a dollar sign. Keep the punctuation\n",
    "marks unchanged.\n",
    "Input Sentence: I want to become a Data Scientist.\n",
    "Encrypt the above input sentence using the program you just created.\n",
    "Note: Convert the given input sentence into lowercase before encrypting. The final output should be\n",
    "lowercase."
   ]
  },
  {
   "cell_type": "code",
   "execution_count": 2,
   "id": "ce4937f1-8c68-4672-9cf7-09138d50bb16",
   "metadata": {},
   "outputs": [
    {
     "name": "stdin",
     "output_type": "stream",
     "text": [
      "enter your message: I want to become a Data Scientist\n"
     ]
    },
    {
     "name": "stdout",
     "output_type": "stream",
     "text": [
      "i$wznt$to$yexome$z$dztz$sxientist\n"
     ]
    }
   ],
   "source": [
    "mess=input(\"enter your message:\")\n",
    "mess=mess.lower()\n",
    "l=[]\n",
    "for i in mess:\n",
    "    if i==\"a\":\n",
    "        l.append('z')\n",
    "    elif i=='b':\n",
    "        l.append('y')\n",
    "    elif i=='c':\n",
    "        l.append('x')\n",
    "    elif i==' ':\n",
    "        l.append('$')\n",
    "    else:\n",
    "        l.append(i)\n",
    "print(\"\".join(l))\n",
    "        \n",
    "        "
   ]
  },
  {
   "cell_type": "markdown",
   "id": "cdcba744-8b43-4c80-ba27-7513be0125a9",
   "metadata": {},
   "source": [
    "Q1. Create a function which will take a list as an argument and return the product of all the numbers\n",
    "after creating a flat list.\n",
    "Use the below-given list as an argument for your function.\n",
    "list1 = [1,2,3,4, [44,55,66, True], False, (34,56,78,89,34), {1,2,3,3,2,1}, {1:34, \"key2\": [55, 67, 78, 89], 4: (45,\n",
    "22, 61, 34)}, [56, 'data science'], 'Machine Learning']\n",
    "Note: you must extract numeric keys and values of the dictionary also."
   ]
  },
  {
   "cell_type": "code",
   "execution_count": 37,
   "id": "a1bedb46-2852-4381-9f07-a952d6201b39",
   "metadata": {},
   "outputs": [],
   "source": [
    "list1 = [1,2,3,4, [44,55,66, True], False, (34,56,78,89,34), {1,2,3,3,2,1}, {1:34, \"key2\": [55, 67, 78, 89], 4: (45,22, 61, 34)}, [56, 'data science'], 'Machine Learning']\n",
    "def fun(l):\n",
    "    l=[]\n",
    "    for i in list1:\n",
    "        if type(i)==int or type(i)==float:\n",
    "            l.append(i)\n",
    "        if type(i)==list:\n",
    "            for j in i:\n",
    "                if type(j)==int or type(j)==float:\n",
    "                    l.append(j)\n",
    "        if type(i)==tuple:\n",
    "            for j in i:\n",
    "                if type(j)==int or type(j)==float:\n",
    "                    l.append(j)\n",
    "        if type(i)==set:\n",
    "            for j in i:\n",
    "                if type(j)==int or type(j)==float:\n",
    "                    l.append(j)\n",
    "        if type(i)==dict:\n",
    "            for key in i:\n",
    "                if type(key)==int or type(key)==float:\n",
    "                    l.append(key)\n",
    "            for val in i.values():\n",
    "                if type(val)==int or type(val)==float:\n",
    "                    l.append(val)\n",
    "                if type(val)==list or type(val)==tuple:\n",
    "                    for i in val:\n",
    "                        if type(i)==int or type(i)==float:\n",
    "                               l.append(i)\n",
    "    p=1\n",
    "    for i in l:\n",
    "        p=p*i\n",
    "    print(\"flat_list\",l)\n",
    "    return p\n",
    "        "
   ]
  },
  {
   "cell_type": "code",
   "execution_count": 38,
   "id": "a1783290-9f70-4256-acbe-51d9d37bd35e",
   "metadata": {},
   "outputs": [
    {
     "name": "stdout",
     "output_type": "stream",
     "text": [
      "flat_list [1, 2, 3, 4, 44, 55, 66, 34, 56, 78, 89, 34, 1, 2, 3, 1, 4, 34, 55, 67, 78, 89, 45, 22, 61, 34, 56]\n",
      "4134711838987085478833841242112000\n"
     ]
    }
   ],
   "source": [
    "print(fun(list1))"
   ]
  },
  {
   "cell_type": "code",
   "execution_count": null,
   "id": "18e96e2e-7bad-4c07-a722-813933c736a0",
   "metadata": {},
   "outputs": [],
   "source": []
  }
 ],
 "metadata": {
  "kernelspec": {
   "display_name": "Python 3 (ipykernel)",
   "language": "python",
   "name": "python3"
  },
  "language_info": {
   "codemirror_mode": {
    "name": "ipython",
    "version": 3
   },
   "file_extension": ".py",
   "mimetype": "text/x-python",
   "name": "python",
   "nbconvert_exporter": "python",
   "pygments_lexer": "ipython3",
   "version": "3.10.8"
  }
 },
 "nbformat": 4,
 "nbformat_minor": 5
}
