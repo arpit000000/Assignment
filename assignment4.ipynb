{
 "cells": [
  {
   "cell_type": "markdown",
   "id": "ad22279c-7b63-4263-974e-c351b4d688a3",
   "metadata": {},
   "source": [
    "Q1. Which keyword is used to create a function? Create a function to return a list of odd numbers in the\n",
    "range of 1 to 25."
   ]
  },
  {
   "cell_type": "code",
   "execution_count": 5,
   "id": "d2d92aac-51ed-4f9e-8efe-b9a9eb5302df",
   "metadata": {},
   "outputs": [
    {
     "data": {
      "text/plain": [
       "[1, 3, 5, 7, 9, 11, 13, 15, 17, 19, 21, 23]"
      ]
     },
     "execution_count": 5,
     "metadata": {},
     "output_type": "execute_result"
    }
   ],
   "source": [
    "#def keyword is used to create a function\n",
    "def odd():\n",
    "    l=[]\n",
    "    for i in range(1,25):\n",
    "        if i%2!=0:\n",
    "            l.append(i)\n",
    "    return l\n",
    "odd()\n",
    "            "
   ]
  },
  {
   "cell_type": "markdown",
   "id": "231c784f-fbd6-4597-a1b9-c0e956e19ef0",
   "metadata": {},
   "source": [
    "Q2. Why *args and **kwargs is used in some functions? Create a function each for *args and **kwargs\n",
    "to demonstrate their use."
   ]
  },
  {
   "cell_type": "markdown",
   "id": "ad03e079-5772-49de-98e7-317986782ddb",
   "metadata": {},
   "source": [
    "Ans. *args=This argument will hold all the unspecified non-keyword arguments in the function definition by\n",
    "packing them in a tuple. Non-keyword arguments will be prefixed with single asterisk in the\n",
    "function definition. if we don't know exactly how many arguments pass to a function then we define variable length argument Ex: *var_arg\n",
    "\n",
    "\n",
    "**kwargs=This argument will hold all the unspecified keyword arguments in the function definition by\n",
    "packing them in a dictionary. Keyword-arguments will be prefixed with double asterisk in the\n",
    "function definition. Ex: **var_kwargs"
   ]
  },
  {
   "cell_type": "code",
   "execution_count": 11,
   "id": "7bdca3e2-6edd-4750-92da-6924447627d1",
   "metadata": {},
   "outputs": [
    {
     "name": "stdin",
     "output_type": "stream",
     "text": [
      " 1,2,3,r\n"
     ]
    },
    {
     "data": {
      "text/plain": [
       "('1,2,3,r',)"
      ]
     },
     "execution_count": 11,
     "metadata": {},
     "output_type": "execute_result"
    }
   ],
   "source": [
    "#if we want to take input from user and we don't know exactly how many argument user pass to a function\n",
    "def arg(*a):\n",
    "    return a\n",
    "a=input()\n",
    "arg(a)\n",
    "\n"
   ]
  },
  {
   "cell_type": "code",
   "execution_count": 12,
   "id": "bb01a0ea-8a93-4f49-9f84-63a1fe973491",
   "metadata": {},
   "outputs": [
    {
     "data": {
      "text/plain": [
       "{'a': 1, 'b': 2, 'c': 3}"
      ]
     },
     "execution_count": 12,
     "metadata": {},
     "output_type": "execute_result"
    }
   ],
   "source": [
    "def argg(**k):\n",
    "    return k\n",
    "argg(a=1,b=2,c=3)"
   ]
  },
  {
   "cell_type": "markdown",
   "id": "1321bfa8-180e-4ccc-8d2e-c115ffd6b5b2",
   "metadata": {},
   "source": [
    "Q3. What is an iterator in python? Name the method used to initialise the iterator object and the method\n",
    "used for iteration. Use these methods to print the first five elements of the given list [2, 4, 6, 8, 10, 12, 14,\n",
    "16, 18, 20]."
   ]
  },
  {
   "cell_type": "markdown",
   "id": "3b5ceac8-8d8f-49dd-83bb-c80748690f85",
   "metadata": {},
   "source": [
    "Ans. python support basic loop structure through iterative statements. iterator in python used to iterate some code that help us to take out some element.An iterator is an object that contains a countable number of values.\n",
    "python supports two types of iterative statements--\n",
    "1. while loop\n",
    "2. for loop"
   ]
  },
  {
   "cell_type": "code",
   "execution_count": 13,
   "id": "9f18e354-6b02-4c00-a9d1-e3e68c0007f9",
   "metadata": {},
   "outputs": [
    {
     "name": "stdout",
     "output_type": "stream",
     "text": [
      "2\n",
      "4\n",
      "6\n",
      "8\n",
      "10\n"
     ]
    }
   ],
   "source": [
    "l=[2, 4, 6, 8, 10, 12, 14, 16, 18, 20]\n",
    "for i in range(5):\n",
    "    print(l[i])"
   ]
  },
  {
   "cell_type": "markdown",
   "id": "189e8673-1c6b-4aba-b74a-5a7e7748bea1",
   "metadata": {},
   "source": [
    "Q4. What is a generator function in python? Why yield keyword is used? Give an example of a generator\n",
    "function."
   ]
  },
  {
   "cell_type": "markdown",
   "id": "8ea23f5e-e904-4a7f-bfc9-1b1bf8a4a2f8",
   "metadata": {},
   "source": [
    "Ans. Generator is a function thet produces or yield a sequence of values using yield statement. when a generator function is called generator object is returned without even brinning execution of the function.\n",
    "whenever you call yield function stops and saves its state. yield as returned statement for a generator."
   ]
  },
  {
   "cell_type": "code",
   "execution_count": 1,
   "id": "b52e8b0f-48ad-4f44-b83f-9b84060e590d",
   "metadata": {},
   "outputs": [
    {
     "name": "stdout",
     "output_type": "stream",
     "text": [
      "2\n",
      "4\n",
      "16\n"
     ]
    }
   ],
   "source": [
    "def square():\n",
    "    n=2\n",
    "    while True:\n",
    "        yield n\n",
    "        n=n*n\n",
    "sq=square()\n",
    "print(next(sq))\n",
    "print(next(sq))\n",
    "print(next(sq))\n",
    "    "
   ]
  },
  {
   "cell_type": "markdown",
   "id": "d2c001d0-d493-4591-b2fb-41f5fb643536",
   "metadata": {},
   "source": [
    "Q5. Create a generator function for prime numbers less than 1000. Use the next() method to print the\n",
    "first 20 prime numbers. "
   ]
  },
  {
   "cell_type": "code",
   "execution_count": 10,
   "id": "48052644-f795-4813-bcbc-988822ea15f3",
   "metadata": {},
   "outputs": [
    {
     "name": "stdout",
     "output_type": "stream",
     "text": [
      "2\n",
      "3\n",
      "5\n",
      "7\n",
      "11\n",
      "13\n",
      "17\n",
      "19\n",
      "23\n",
      "29\n",
      "31\n",
      "37\n",
      "41\n",
      "43\n",
      "47\n",
      "53\n",
      "59\n",
      "61\n",
      "67\n",
      "71\n"
     ]
    }
   ],
   "source": [
    "def get_primes():\n",
    "    for i in range(1,1000):\n",
    "        c=0\n",
    "        for j in range(1,i+1):\n",
    "            if i%j==0:\n",
    "                c+=1\n",
    "        if c==2:\n",
    "            yield i\n",
    "p=get_primes()\n",
    "for i in range(20):\n",
    "    print(next(p))\n"
   ]
  },
  {
   "cell_type": "markdown",
   "id": "7cdb90d8-135b-4c14-9691-073bc55cc6f9",
   "metadata": {},
   "source": [
    "Q6. Write a python program to print the first 10 Fibonacci numbers using a while loop."
   ]
  },
  {
   "cell_type": "code",
   "execution_count": 16,
   "id": "4614d094-1c91-44d3-8b4c-aaada9499fe9",
   "metadata": {},
   "outputs": [
    {
     "name": "stdout",
     "output_type": "stream",
     "text": [
      "0\n",
      "1\n",
      "1\n",
      "2\n",
      "3\n",
      "5\n",
      "8\n",
      "13\n",
      "21\n",
      "34\n"
     ]
    }
   ],
   "source": [
    "n=10\n",
    "f1=0\n",
    "f2=1\n",
    "while n>0:\n",
    "    print(f1)\n",
    "    f3=f1+f2\n",
    "    f1=f2\n",
    "    f2=f3\n",
    "    n=n-1\n"
   ]
  },
  {
   "cell_type": "markdown",
   "id": "18f09503-2856-4b6f-9c8f-cc7d57b38f65",
   "metadata": {},
   "source": [
    "Q7. Write a List Comprehension to iterate through the given string: ‘pwskills’.\n",
    "Expected output: ['p', 'w', 's', 'k', 'i', 'l', 'l', 's']"
   ]
  },
  {
   "cell_type": "code",
   "execution_count": 17,
   "id": "52b8453a-bce0-465b-bbd8-09b06a12953f",
   "metadata": {},
   "outputs": [
    {
     "name": "stdout",
     "output_type": "stream",
     "text": [
      "['p', 'w', 's', 'k', 'i', 'l', 'l', 's']\n"
     ]
    }
   ],
   "source": [
    "s=\"pwskills\"\n",
    "print([i for i in s])"
   ]
  },
  {
   "cell_type": "markdown",
   "id": "3818a562-e297-42d6-9658-6469cb355486",
   "metadata": {},
   "source": [
    "Q8. Write a python program to check whether a given number is Palindrome or not using a while loop."
   ]
  },
  {
   "cell_type": "code",
   "execution_count": 21,
   "id": "11ee64a4-7e85-4c45-9100-4ccaea100edf",
   "metadata": {},
   "outputs": [
    {
     "name": "stdin",
     "output_type": "stream",
     "text": [
      " 91019\n"
     ]
    },
    {
     "name": "stdout",
     "output_type": "stream",
     "text": [
      "given no. is a palindrome: 91019\n"
     ]
    }
   ],
   "source": [
    "n=int(input())\n",
    "a=n\n",
    "c=0\n",
    "while a>0:\n",
    "    b=a%10\n",
    "    c=c*10+b\n",
    "    a=a//10\n",
    "if c==n:\n",
    "    print(\"given no. is a palindrome:\",c)\n",
    "else:\n",
    "    print(\"given no. is not a palindrome:\",c)"
   ]
  },
  {
   "cell_type": "markdown",
   "id": "dd9d570b-713a-4ab1-a921-f7b4dc7c1680",
   "metadata": {},
   "source": [
    "Q9. Write a code to print odd numbers from 1 to 100 using list comprehension.\n",
    "Note: Use a list comprehension to create a list from 1 to 100 and use another List comprehension to filter\n",
    "out odd numbers."
   ]
  },
  {
   "cell_type": "code",
   "execution_count": 24,
   "id": "f7b1acd6-3514-4748-80f6-77d6092761c3",
   "metadata": {},
   "outputs": [
    {
     "name": "stdout",
     "output_type": "stream",
     "text": [
      "[1, 3, 5, 7, 9, 11, 13, 15, 17, 19, 21, 23, 25, 27, 29, 31, 33, 35, 37, 39, 41, 43, 45, 47, 49, 51, 53, 55, 57, 59, 61, 63, 65, 67, 69, 71, 73, 75, 77, 79, 81, 83, 85, 87, 89, 91, 93, 95, 97, 99]\n"
     ]
    }
   ],
   "source": [
    "l=[i for i in range(1,101)]\n",
    "l1=[i for i in l if i%2!=0]\n",
    "print(l1)"
   ]
  },
  {
   "cell_type": "code",
   "execution_count": null,
   "id": "670340af-50a2-4f0b-a758-948807b0f8a5",
   "metadata": {},
   "outputs": [],
   "source": []
  }
 ],
 "metadata": {
  "kernelspec": {
   "display_name": "Python 3 (ipykernel)",
   "language": "python",
   "name": "python3"
  },
  "language_info": {
   "codemirror_mode": {
    "name": "ipython",
    "version": 3
   },
   "file_extension": ".py",
   "mimetype": "text/x-python",
   "name": "python",
   "nbconvert_exporter": "python",
   "pygments_lexer": "ipython3",
   "version": "3.10.8"
  }
 },
 "nbformat": 4,
 "nbformat_minor": 5
}
