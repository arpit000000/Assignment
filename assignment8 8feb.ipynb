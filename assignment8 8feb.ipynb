{
 "cells": [
  {
   "cell_type": "markdown",
   "id": "0341f7e2-5aa7-4630-8687-5daf67ebec75",
   "metadata": {},
   "source": [
    "Q1. What is Abstraction in OOps? Explain with an example."
   ]
  },
  {
   "cell_type": "markdown",
   "id": "51ca9e7f-f505-4445-9f66-c4cb99e18687",
   "metadata": {},
   "source": [
    "Data Abstraction refers to the process by which data and functions are defined in such a way that only essential details are revealed and the implementation details are hidden.for ex. an user of television sets,we can switch it on or off ,change the channel,set the volume,and add external device such as speakers etc. without knowing the details about how its functionality has been implemented. "
   ]
  },
  {
   "cell_type": "markdown",
   "id": "41cc5e46-f4dc-4bb3-94a2-ef9a47a4144a",
   "metadata": {},
   "source": [
    "Q2. Differentiate between Abstraction and Encapsulation. Explain with an example."
   ]
  },
  {
   "cell_type": "markdown",
   "id": "bda4ab6b-f237-4544-be15-ee4698d4966d",
   "metadata": {},
   "source": [
    "Data Abstraction refers to the process by which data and functions are defined in such a way that only essential details are revealed and the implementation details are hidden\n",
    "\n",
    "Encapsulation, on the other hand, is a technique of hiding the internal details of an object and protecting them from outside interference. It involves bundling the data and methods that operate on the data within a single unit, and restricting access to that unit from outside the object.\n"
   ]
  },
  {
   "cell_type": "code",
   "execution_count": 3,
   "id": "7decac26-b856-4879-94bd-f334cdb0d272",
   "metadata": {},
   "outputs": [],
   "source": [
    "class bankacc:\n",
    "    def __init__(self,a):\n",
    "        self.__amount=a\n",
    "    def withdrawl(self,x):\n",
    "        if x<=self.__amount:\n",
    "            self.__amount-=x\n",
    "            return \"you can withdrawl\"\n",
    "        else:\n",
    "            return False\n",
    "    def deposit(self,x):\n",
    "        self.__amount+=x\n",
    "    def get(self):\n",
    "        return self.__amount\n",
    "    \n",
    "        "
   ]
  },
  {
   "cell_type": "markdown",
   "id": "7be95c38-52d2-4ede-9751-c1b80f978255",
   "metadata": {},
   "source": [
    "o1=bankacc(27000)\n",
    "o1.deposit(500)\n",
    "o1.get()"
   ]
  },
  {
   "cell_type": "markdown",
   "id": "d47b88dc-1843-46ce-b453-16de4f940594",
   "metadata": {},
   "source": [
    "Q3. What is abc module in python? Why is it used?"
   ]
  },
  {
   "cell_type": "markdown",
   "id": "8a0632b0-67e0-4cc5-a76f-d8d4b1419a62",
   "metadata": {},
   "source": [
    "Abstract base classes are classes that define abstract methods but do not provide an implementation for them. They are meant to be subclassed by concrete classes that provide a concrete implementation of these abstract methods.\n",
    "The abc module is used in Python to create a hierarchy of related classes, and to ensure that all classes that implement a certain interface or behavior conform to a certain standard."
   ]
  },
  {
   "cell_type": "markdown",
   "id": "e358cd94-d6d6-4547-8b8b-40f02b860c3b",
   "metadata": {},
   "source": [
    "Q4. How can we achieve data abstraction?"
   ]
  },
  {
   "cell_type": "markdown",
   "id": "47aa2851-b071-4cbd-bb67-c2a92da4b137",
   "metadata": {},
   "source": [
    "Data abstraction can be achieved in object-oriented programming through the use of abstract classes and interfaces.\n",
    "\n",
    "Abstract classes are classes that cannot be instantiated, and are meant to be subclassed by concrete classes that provide a concrete implementation of their abstract methods. Abstract classes typically define a set of methods or properties that are common to all of their subclasses, but do not provide a specific implementation for them."
   ]
  },
  {
   "cell_type": "code",
   "execution_count": 13,
   "id": "356168cf-2c21-485d-913e-c9dad3ceb916",
   "metadata": {},
   "outputs": [],
   "source": [
    "import abc\n",
    "class pwskill:\n",
    "    @abc.abstractmethod\n",
    "    def st_detail(self):\n",
    "        pass\n",
    "    @abc.abstractmethod\n",
    "    def st_assignment(self):\n",
    "        pass\n",
    "    @abc.abstractmethod\n",
    "    def st_marks(self):\n",
    "        pass\n",
    "    "
   ]
  },
  {
   "cell_type": "code",
   "execution_count": 14,
   "id": "124a7210-d837-4407-a84e-802e8a1e8490",
   "metadata": {},
   "outputs": [],
   "source": [
    "class stclass(pwskill):\n",
    "    def st_detail(self):\n",
    "        return \"this is a meth of taking st, details\"\n",
    "    def st_assignment(self):\n",
    "        return \"meth for assesing details of perticular st.\""
   ]
  },
  {
   "cell_type": "code",
   "execution_count": 15,
   "id": "da5db22a-314d-4c3a-994b-aa3ae470e1cb",
   "metadata": {},
   "outputs": [],
   "source": [
    "class stclass1(pwskill):\n",
    "    def st_detail(self):\n",
    "        return \"this is a meth of taking st1, details\"\n",
    "    def st_assignment(self):\n",
    "        return \"meth for assesing details of perticular st1.\""
   ]
  },
  {
   "cell_type": "code",
   "execution_count": 18,
   "id": "f30eddba-f575-4a00-bbf2-b1bd55a92121",
   "metadata": {},
   "outputs": [
    {
     "name": "stdout",
     "output_type": "stream",
     "text": [
      "this is a meth of taking st, details\n",
      "this is a meth of taking st1, details\n"
     ]
    }
   ],
   "source": [
    "o1=pwskill()\n",
    "o2=stclass()\n",
    "o3=stclass1()\n",
    "\n",
    "print(o2.st_detail())\n",
    "print(o3.st_detail())"
   ]
  },
  {
   "cell_type": "markdown",
   "id": "96cb5702-9964-49e6-a600-ba01f1cecf6b",
   "metadata": {},
   "source": [
    "Q5. Can we create an instance of an abstract class? Explain your answer."
   ]
  },
  {
   "cell_type": "markdown",
   "id": "c3d6c57b-b059-4e87-9764-60fcf1198069",
   "metadata": {},
   "source": [
    "No, we cannot create an instance of an abstract class in Python or any other object-oriented programming language.\n",
    "Because an abstract class does not provide a concrete implementation for its abstract methods, it cannot be instantiated on its own. Instead, we must create a concrete subclass of the abstract class, which provides an implementation for all of its abstract methods. Once we have created a concrete subclass, we can create an instance of that subclass."
   ]
  },
  {
   "cell_type": "code",
   "execution_count": null,
   "id": "de8e8046-1d44-4279-b21a-b44771150ff1",
   "metadata": {},
   "outputs": [],
   "source": []
  }
 ],
 "metadata": {
  "kernelspec": {
   "display_name": "Python 3 (ipykernel)",
   "language": "python",
   "name": "python3"
  },
  "language_info": {
   "codemirror_mode": {
    "name": "ipython",
    "version": 3
   },
   "file_extension": ".py",
   "mimetype": "text/x-python",
   "name": "python",
   "nbconvert_exporter": "python",
   "pygments_lexer": "ipython3",
   "version": "3.10.8"
  }
 },
 "nbformat": 4,
 "nbformat_minor": 5
}
