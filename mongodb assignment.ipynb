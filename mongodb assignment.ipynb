{
 "cells": [
  {
   "cell_type": "raw",
   "id": "3ceb1d57-1bb4-44da-9686-9d38b855c9bd",
   "metadata": {},
   "source": [
    "Q1. What is MongoDB? Explain non-relational databases in short. In which scenarios it is preferred to use MongoDB over SQL databases?"
   ]
  },
  {
   "cell_type": "raw",
   "id": "734f4ae9-ad25-4b9a-89bb-c76cb498ea2f",
   "metadata": {},
   "source": [
    "Ans. MongoDB is a popular, open-source, NoSQL database that stores data in flexible, JSON-like documents. Unlike traditional relational databases that use tables and rows, MongoDB uses collections and documents. This allows for more flexible and scalable data storage and retrieval.\n",
    "\n",
    "Non-relational databases, also known as NoSQL databases, do not use the traditional table-based relational database structure. They are designed to handle a wide variety of data models, including key-value, document, columnar, and graph formats. Non-relational databases are often used for big data and real-time web applications.\n",
    "\n",
    "Scenarios where MongoDB is preferred over SQL databases:\n",
    "\n",
    "Flexible Schema Design: When the data schema is not fixed or is expected to change frequently.\n",
    "Scalability: For applications that require horizontal scaling and handling large volumes of data across distributed systems.\n",
    "High Write Loads: Suitable for applications that require high write throughput.\n",
    "Unstructured Data: Ideal for storing unstructured or semi-structured data, such as logs, social media feeds, and user-generated content.\n",
    "Complex, Hierarchical Data: When data needs to be stored in a hierarchical format, such as nested documents."
   ]
  },
  {
   "cell_type": "raw",
   "id": "deece193-c118-4dfc-98a8-ce08b8e0642b",
   "metadata": {},
   "source": [
    "Q2. State and Explain the features of MongoDB.\n",
    "\n",
    "Ans. Flexible Schema: MongoDB allows for dynamic schema design, meaning each document can have a different structure.\n",
    "Scalability: Supports horizontal scaling through sharding, allowing for distributed data storage across multiple servers.\n",
    "High Performance: Provides high throughput for read and write operations.\n",
    "Replication: Supports replica sets for data redundancy and high availability.\n",
    "Indexing: Allows for the creation of indexes to improve query performance."
   ]
  },
  {
   "cell_type": "raw",
   "id": "95f5b3c2-e946-4657-9cb1-8ec17b80a95c",
   "metadata": {},
   "source": [
    "Q3. Write a code to connect MongoDB to Python. Also, create a database and a collection in MongoDB.\n",
    "\n",
    "Ans. from pymongo import MongoClient\n",
    "\n",
    "# Connect to MongoDB server\n",
    "client = MongoClient('mongodb://localhost:27017/')\n",
    "\n",
    "# Create a database\n",
    "db = client['mydatabase']\n",
    "\n",
    "# Create a collection\n",
    "collection = db['mycollection']\n",
    "\n",
    "print(\"Database and collection created successfully\")\n"
   ]
  },
  {
   "cell_type": "markdown",
   "id": "a71e7de8-ea1c-4599-8869-7d19d3d2f5b3",
   "metadata": {},
   "source": [
    "Q4. Using the database and the collection created in question number 3, write a code to insert one record, and insert many records. Use the find() and find_one() methods to print the inserted record.\n",
    "\n",
    "Ans. # Insert one record\n",
    "record = {\"name\": \"John Doe\", \"age\": 30, \"city\": \"New York\"}\n",
    "collection.insert_one(record)\n",
    "\n",
    "# Insert many records\n",
    "records = [\n",
    "    {\"name\": \"Jane Doe\", \"age\": 25, \"city\": \"Los Angeles\"},\n",
    "    {\"name\": \"Mike Smith\", \"age\": 35, \"city\": \"Chicago\"},\n",
    "    {\"name\": \"Emily Davis\", \"age\": 22, \"city\": \"San Francisco\"}\n",
    "]\n",
    "collection.insert_many(records)\n",
    "\n",
    "# Find and print one record\n",
    "print(\"One record:\", collection.find_one({\"name\": \"John Doe\"}))\n",
    "\n",
    "# Find and print all records\n",
    "print(\"All records:\")\n",
    "for doc in collection.find():\n",
    "    print(doc)\n"
   ]
  },
  {
   "cell_type": "raw",
   "id": "99518bf3-5392-4a06-ad96-299db9d14174",
   "metadata": {},
   "source": [
    "Q5. Explain how you can use the find() method to query the MongoDB database. Write a simple code to demonstrate this.\n",
    "\n",
    "Ans. # Query for documents where age is greater than 25\n",
    "query = {\"age\": {\"$gt\": 25}}\n",
    "\n",
    "# Execute the query\n",
    "results = collection.find(query)\n",
    "\n",
    "# Print the results\n",
    "print(\"Query results:\")\n",
    "for doc in results:\n",
    "    print(doc)\n"
   ]
  },
  {
   "cell_type": "raw",
   "id": "aea1af32-c08d-4c56-a8a8-a2662265e2ba",
   "metadata": {},
   "source": [
    "Q6. Explain the sort() method. Give an example to demonstrate sorting in MongoDB.\n",
    "\n",
    "Ans The sort() method in MongoDB is used to sort the results of a query. It takes a list of field and direction pairs. The direction can be 1 for ascending order or -1 for descending order.\n",
    "# Query for all documents and sort by age in ascending order\n",
    "results = collection.find().sort(\"age\", 1)\n",
    "\n",
    "# Print sorted results\n",
    "print(\"Sorted results (by age ascending):\")\n",
    "for doc in results:\n",
    "    print(doc)\n"
   ]
  },
  {
   "cell_type": "code",
   "execution_count": null,
   "id": "f3817949-41e8-4afe-b400-d26f60a5ef38",
   "metadata": {},
   "outputs": [],
   "source": [
    "Q7. Explain why delete_one(), delete_many(), and drop() is used.\n",
    "A"
   ]
  }
 ],
 "metadata": {
  "kernelspec": {
   "display_name": "Python 3 (ipykernel)",
   "language": "python",
   "name": "python3"
  },
  "language_info": {
   "codemirror_mode": {
    "name": "ipython",
    "version": 3
   },
   "file_extension": ".py",
   "mimetype": "text/x-python",
   "name": "python",
   "nbconvert_exporter": "python",
   "pygments_lexer": "ipython3",
   "version": "3.10.8"
  }
 },
 "nbformat": 4,
 "nbformat_minor": 5
}
