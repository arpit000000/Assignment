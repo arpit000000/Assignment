{
 "cells": [
  {
   "cell_type": "markdown",
   "id": "506dda6d-fa1a-498c-898b-a54de652e756",
   "metadata": {},
   "source": [
    "Q1. You are writing code for a company. The requirement of the company is that you create a python\n",
    "function that will check whether the password entered by the user is correct or not. The function should\n",
    "take the password as input and return the string “Valid Password” if the entered password follows the\n",
    "below-given password guidelines else it should return “Invalid Password”.\n",
    "Note: 1. The Password should contain at least two uppercase letters and at least two lowercase letters.\n",
    "2. The Password should contain at least a number and three special characters.\n",
    "3. The length of the password should be 10 characters long."
   ]
  },
  {
   "cell_type": "code",
   "execution_count": 15,
   "id": "125b9a47-0bc9-412e-9f28-9afda7845c00",
   "metadata": {},
   "outputs": [
    {
     "name": "stdin",
     "output_type": "stream",
     "text": [
      "enter your password:  @rpi2004\n"
     ]
    },
    {
     "name": "stdout",
     "output_type": "stream",
     "text": [
      "Invalid password\n"
     ]
    }
   ],
   "source": [
    "def password():\n",
    "    n=input(\"enter your password: \")\n",
    "    l1=['a', 'b', 'c', 'd', 'e', 'f', 'g', 'h', 'i', 'j', 'k', 'l', 'm', 'n', 'o', 'p', 'q', 'r', 's', 't', 'u', 'v', 'w', 'x', 'y', 'z']\n",
    "    l2=[]\n",
    "    l3=['!', '@', '#', '$', '%', '^', '&', '*', '(', ')', '-', '_', '=', '+', '[', ']', '{', '}', '|', ';', ':', ',', '.', '<', '>', '/', '?']\n",
    "    l4=[\"0\",\"1\",\"2\",\"3\",\"4\",\"5\",\"6\",\"7\",\"8\",\"9\"]\n",
    "    c1=0\n",
    "    c2=0\n",
    "    c3=0\n",
    "    c4=0\n",
    "    for i in l1:\n",
    "        i=i.upper()\n",
    "        l2.append((i))\n",
    "    for i in n:\n",
    "        if i in l1:\n",
    "            c1+=1\n",
    "        if i in l2:\n",
    "            c2+=1\n",
    "        if i in l3:\n",
    "            c3+=1\n",
    "        if i in l4:\n",
    "            c4>=1\n",
    "    if len(n)>=10 and c1>=2  and c2>=2 and c3>=3:\n",
    "        print(\"Valid Password\")\n",
    "    else:\n",
    "        print(\"Invalid password\")\n",
    "\n",
    "password()"
   ]
  },
  {
   "cell_type": "markdown",
   "id": "1e172d7f-5937-4765-834c-97114d81e287",
   "metadata": {},
   "source": [
    "Q2. Solve the below-given questions using at least one of the following:\n",
    "1. Lambda function\n",
    "2. Filter function\n",
    "3. map function\n",
    "4. List Comprehension\n"
   ]
  },
  {
   "cell_type": "markdown",
   "id": "3df5a0f4-23d8-422d-92f8-e2bf83a42e9b",
   "metadata": {},
   "source": [
    "1.Check if the string starts with a particular letter"
   ]
  },
  {
   "cell_type": "code",
   "execution_count": 8,
   "id": "0e92db19-e630-40e6-9d1a-0dfadcbb3dc9",
   "metadata": {},
   "outputs": [
    {
     "name": "stdin",
     "output_type": "stream",
     "text": [
      "enter a string arpit\n"
     ]
    },
    {
     "name": "stdout",
     "output_type": "stream",
     "text": [
      "True\n"
     ]
    }
   ],
   "source": [
    "s=input(\"enter a string\")\n",
    "a=lambda s:s.startswith(\"a\")\n",
    "print(a(s))"
   ]
  },
  {
   "cell_type": "markdown",
   "id": "b42af289-7f20-4151-9f12-fc812d052111",
   "metadata": {},
   "source": [
    "2.Check if the string is numeric"
   ]
  },
  {
   "cell_type": "code",
   "execution_count": null,
   "id": "d53b59c8-64e2-438a-b23a-851949f90645",
   "metadata": {},
   "outputs": [],
   "source": [
    "s=input(\"enter a string\")\n",
    "def integer(x):\n",
    "    if x==\n",
    "    \n",
    "a=filter()"
   ]
  },
  {
   "cell_type": "markdown",
   "id": "c5bd7e06-0634-490f-896b-acd0cc0345e7",
   "metadata": {},
   "source": [
    "3.Sort a list of tuples having fruit names and their quantity. [(\"mango\",99),(\"orange\",80), (\"grapes\", 1000)]"
   ]
  },
  {
   "cell_type": "code",
   "execution_count": 7,
   "id": "d4ea1699-bc0c-407d-9b4f-729e1c93144b",
   "metadata": {},
   "outputs": [
    {
     "name": "stdout",
     "output_type": "stream",
     "text": [
      "[('grapes', 1000), ('mango', 99), ('orange', 80)]\n"
     ]
    }
   ],
   "source": [
    "l=[(\"mango\",99),(\"orange\",80), (\"grapes\", 1000)]\n",
    "s=sorted(l,key=lambda x:x[1],reverse=True)\n",
    "print(s)"
   ]
  },
  {
   "cell_type": "code",
   "execution_count": null,
   "id": "1db49935-e796-4633-ac8f-3382f2056739",
   "metadata": {},
   "outputs": [],
   "source": []
  },
  {
   "cell_type": "markdown",
   "id": "e3211f7f-fc65-40d5-891a-acc2a8be4179",
   "metadata": {},
   "source": [
    "4. Find the squares of numbers from 1 to 10"
   ]
  },
  {
   "cell_type": "code",
   "execution_count": 6,
   "id": "02307a19-21ae-4292-8ba0-a34a2a16eaf8",
   "metadata": {},
   "outputs": [
    {
     "data": {
      "text/plain": [
       "[1, 4, 9, 16, 25, 36, 49, 64, 81, 100]"
      ]
     },
     "execution_count": 6,
     "metadata": {},
     "output_type": "execute_result"
    }
   ],
   "source": [
    "l=[i*i for i in range(1,11)]"
   ]
  },
  {
   "cell_type": "markdown",
   "id": "5259987b-634a-4585-8a0f-b121fceddf0a",
   "metadata": {},
   "source": [
    "5. Find the cube root of numbers from 1 to 10"
   ]
  },
  {
   "cell_type": "code",
   "execution_count": 7,
   "id": "d11b3bb9-7736-4375-ad42-877f2dedde2d",
   "metadata": {},
   "outputs": [
    {
     "data": {
      "text/plain": [
       "[1.0,\n",
       " 1.2599210498948732,\n",
       " 1.4422495703074083,\n",
       " 1.5874010519681994,\n",
       " 1.7099759466766968,\n",
       " 1.8171205928321397,\n",
       " 1.912931182772389,\n",
       " 2.0,\n",
       " 2.080083823051904,\n",
       " 2.154434690031884]"
      ]
     },
     "execution_count": 7,
     "metadata": {},
     "output_type": "execute_result"
    }
   ],
   "source": [
    "l=[i**(1/3) for i in range(1,11)]\n",
    "l"
   ]
  },
  {
   "cell_type": "markdown",
   "id": "ad95d88c-b699-4a81-ac47-167d817934fc",
   "metadata": {},
   "source": [
    "6. Check if a given number is even"
   ]
  },
  {
   "cell_type": "code",
   "execution_count": 14,
   "id": "b53b4f88-1ef1-44dd-b3f1-4a5ddd2e30a2",
   "metadata": {},
   "outputs": [
    {
     "name": "stdin",
     "output_type": "stream",
     "text": [
      "enter a no:  8\n"
     ]
    },
    {
     "name": "stdout",
     "output_type": "stream",
     "text": [
      "even\n"
     ]
    }
   ],
   "source": [
    "n=int(input(\"enter a no: \"))\n",
    "s=lambda n:print(\"even\") if n%2==0 else print(\"odd\")\n",
    "s(n)"
   ]
  },
  {
   "cell_type": "markdown",
   "id": "964d1ba0-54d3-4c6c-821d-e1659e2f317c",
   "metadata": {},
   "source": [
    "7.Filter odd numbers from the given list.\n",
    "[1,2,3,4,5,6,7,8,9,10]"
   ]
  },
  {
   "cell_type": "code",
   "execution_count": 11,
   "id": "a7b66cea-3955-473c-b615-3f1c606b8349",
   "metadata": {},
   "outputs": [
    {
     "name": "stdout",
     "output_type": "stream",
     "text": [
      "[1, 3, 5, 7, 9]\n"
     ]
    }
   ],
   "source": [
    "l=[1,2,3,4,5,6,7,8,9,10]\n",
    "s=filter(lambda x:x%2!=0,l)\n",
    "print(list(s))"
   ]
  },
  {
   "cell_type": "markdown",
   "id": "c4c59cfd-62ff-4c07-b615-5b5ea983c8b8",
   "metadata": {},
   "source": [
    "8.Sort a list of integers into positive and negative integers lists.\n",
    "[1,2,3,4,5,6,-1,-2,-3,-4,-5,0]"
   ]
  },
  {
   "cell_type": "code",
   "execution_count": 19,
   "id": "c4f8507f-0d8d-4e8b-8093-4e2137104acf",
   "metadata": {},
   "outputs": [
    {
     "name": "stdout",
     "output_type": "stream",
     "text": [
      "[1, 2, 3, 4, 5, 6]\n",
      "[-1, -2, -3, -4, -5]\n"
     ]
    }
   ],
   "source": [
    "l=[1,2,3,4,5,6,-1,-2,-3,-4,-5,0]\n",
    "l1=[x for x in l if x>0]\n",
    "l2=[x for x in l if x<0]\n",
    "print(l1)\n",
    "print(l2)\n"
   ]
  },
  {
   "cell_type": "code",
   "execution_count": null,
   "id": "e43dd9c6-1d5b-4684-9983-f951d7b74dcb",
   "metadata": {},
   "outputs": [],
   "source": []
  }
 ],
 "metadata": {
  "kernelspec": {
   "display_name": "Python 3 (ipykernel)",
   "language": "python",
   "name": "python3"
  },
  "language_info": {
   "codemirror_mode": {
    "name": "ipython",
    "version": 3
   },
   "file_extension": ".py",
   "mimetype": "text/x-python",
   "name": "python",
   "nbconvert_exporter": "python",
   "pygments_lexer": "ipython3",
   "version": "3.10.8"
  }
 },
 "nbformat": 4,
 "nbformat_minor": 5
}
