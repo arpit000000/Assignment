{
 "cells": [
  {
   "cell_type": "markdown",
   "id": "24ee43bf-446c-4cdb-bfdf-80ad989820b2",
   "metadata": {},
   "source": [
    "Q1. Explain Class and Object with respect to Object-Oriented Programming. Give a suitable example."
   ]
  },
  {
   "cell_type": "markdown",
   "id": "05167666-a3f4-4661-8d95-8a9bf3d45b85",
   "metadata": {},
   "source": [
    "Ans. A class provide a blueprint that describe the structure and behaviour of a set of similar objects.class can be defined as the collection of the object it is a logical entity that has some methods and attribute.one class can declared a programmer can create any number of objects of that class. \n",
    "A object is the instance of the class.every object contain some data and function known as method.object is an entity that has state and behavior."
   ]
  },
  {
   "cell_type": "code",
   "execution_count": 15,
   "id": "935b926e-a7b5-47e7-ad26-e78cff54eb2c",
   "metadata": {},
   "outputs": [
    {
     "name": "stdout",
     "output_type": "stream",
     "text": [
      "hello\n"
     ]
    }
   ],
   "source": [
    "class Students:\n",
    "    a=\"hello\" \n",
    "b=Students#object\n",
    "print(b.a)\n"
   ]
  },
  {
   "cell_type": "markdown",
   "id": "5f2f31f0-48a0-4bf4-97ed-b3f78b525bf6",
   "metadata": {},
   "source": [
    "Q2. Name the four pillars of OOPs."
   ]
  },
  {
   "cell_type": "markdown",
   "id": "3e603876-09ef-41dd-8ddc-ba8ea1f656ab",
   "metadata": {},
   "source": [
    "1.Inheritance\n",
    "2.Polymorphism\n",
    "3.Containership\n",
    "4.Reusability\n",
    "5.Delegation"
   ]
  },
  {
   "cell_type": "markdown",
   "id": "c6fd99da-8ea7-4a53-abaa-b6b353574607",
   "metadata": {},
   "source": [
    "Q3. Explain why the __init__() function is used. Give a suitable example."
   ]
  },
  {
   "cell_type": "markdown",
   "id": "75d3a14e-71f8-425a-b172-e25a7be2180d",
   "metadata": {},
   "source": [
    "This method is useful to initialize the variables of the class object. and it used to pass data to the class.\n"
   ]
  },
  {
   "cell_type": "code",
   "execution_count": 24,
   "id": "6b4ff7ed-5e42-48b8-afcd-cc36ee366596",
   "metadata": {},
   "outputs": [
    {
     "data": {
      "text/plain": [
       "('Arpit', 5489034839)"
      ]
     },
     "execution_count": 24,
     "metadata": {},
     "output_type": "execute_result"
    }
   ],
   "source": [
    "class My:\n",
    "    def __init__(self,name,phone):\n",
    "        self.name=name\n",
    "        self.phone=phone\n",
    "    def show(self):\n",
    "        return self.name,self.phone\n",
    "a=My(\"Arpit\",5489034839)\n",
    "a.name\n",
    "a.show()"
   ]
  },
  {
   "cell_type": "markdown",
   "id": "54e380da-d01d-41ff-bb32-3916ae68a0f7",
   "metadata": {},
   "source": [
    "Q4. Why self is used in OOPs?"
   ]
  },
  {
   "cell_type": "markdown",
   "id": "ebadc29f-438c-4bcd-8947-b4c3ec5457e4",
   "metadata": {},
   "source": [
    "The self argument differs to the object itself the self parameter is the reference to the current instance of the class,and is used to access variable that belongs to the object\n",
    "Self are used to bind the variable with class."
   ]
  },
  {
   "cell_type": "markdown",
   "id": "444403d5-a85a-4b37-ab00-fedfe14c764f",
   "metadata": {},
   "source": [
    "Q5. What is inheritance? Give an example for each type of inheritance."
   ]
  },
  {
   "cell_type": "markdown",
   "id": "9df66de6-76ba-4239-8c75-33a297daaac6",
   "metadata": {},
   "source": [
    "Inheritance is a concept of OOP in which a new class is created from the existence class. The new class often known as subclass contains attributes and method of parent class.\n",
    "There are four types of inheritance:\n",
    "\n",
    "1.Single inheritance: In single inheritance, a subclass inherits properties and methods from a single superclass.\n",
    "2.Multiple inheritance: In multiple inheritance, a subclass inherits properties and methods from multiple superclasses.\n",
    "3.Hierarchical inheritance: In hierarchical inheritance, a subclass inherits from a single superclass, but multiple subclasses can inherit from the same superclass.\n",
    "4.Multilevel inheritance: In multilevel inheritance, a subclass inherits from a superclass that itself inherits from another superclass.\n"
   ]
  },
  {
   "cell_type": "code",
   "execution_count": 25,
   "id": "ee6578d7-9577-4417-ade6-4605cf4b1e30",
   "metadata": {},
   "outputs": [],
   "source": [
    "class Animal:\n",
    "    def __init__(self,name):\n",
    "        self.name=name\n",
    "    def pr(self):\n",
    "        return self.name\n",
    "class Lion(Animal):\n",
    "    def __init__(self,speed):\n",
    "        self.speed=speed\n",
    "    def re(self):\n",
    "        return self.speed\n",
    "class Cat(Lion):\n",
    "    def __init__(self,eye):\n",
    "        self.eye=eye\n",
    "    def re(self):\n",
    "        return self.eye\n"
   ]
  },
  {
   "cell_type": "code",
   "execution_count": null,
   "id": "9d11ec9c-ece5-43cc-bda1-38604f9a0923",
   "metadata": {},
   "outputs": [],
   "source": []
  }
 ],
 "metadata": {
  "kernelspec": {
   "display_name": "Python 3 (ipykernel)",
   "language": "python",
   "name": "python3"
  },
  "language_info": {
   "codemirror_mode": {
    "name": "ipython",
    "version": 3
   },
   "file_extension": ".py",
   "mimetype": "text/x-python",
   "name": "python",
   "nbconvert_exporter": "python",
   "pygments_lexer": "ipython3",
   "version": "3.10.8"
  }
 },
 "nbformat": 4,
 "nbformat_minor": 5
}
