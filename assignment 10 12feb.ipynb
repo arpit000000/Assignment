{
 "cells": [
  {
   "cell_type": "markdown",
   "id": "bcff8e26-3952-462b-99e3-b3597ae144fc",
   "metadata": {},
   "source": [
    "Q1. What is Exception in python? Write the difference between Exception and Syntax errors."
   ]
  },
  {
   "cell_type": "markdown",
   "id": "d35df3f6-ceee-4a3e-8e41-ce93cc35ca1c",
   "metadata": {},
   "source": [
    "Ans. Even if a statement is syntactically correct,it may still cause an error when executed.such errors that occurs at run time are known as exception.it is the event that occurs during the execution of program.\n",
    "Syntax error occurs when we violet rule of python and they are most comman kind of error.\n",
    "ex i=0\n",
    "   if i==0 print(\"hy\")\n",
    "   in the above code we missed \":\" before print . "
   ]
  },
  {
   "cell_type": "markdown",
   "id": "2990bbae-1295-4f5b-a924-80dff2f40428",
   "metadata": {},
   "source": [
    "Q2. What happens when an exception is not handled? Explin withn example."
   ]
  },
  {
   "cell_type": "markdown",
   "id": "7bb4506f-cd16-4925-ac6a-9409c0a18bd6",
   "metadata": {},
   "source": [
    "if exception is not handle by the programmer then error message are generated "
   ]
  },
  {
   "cell_type": "code",
   "execution_count": 2,
   "id": "a2b9fd10-8aef-45b0-9355-2d95eddbeb91",
   "metadata": {},
   "outputs": [
    {
     "ename": "ZeroDivisionError",
     "evalue": "division by zero",
     "output_type": "error",
     "traceback": [
      "\u001b[0;31m---------------------------------------------------------------------------\u001b[0m",
      "\u001b[0;31mZeroDivisionError\u001b[0m                         Traceback (most recent call last)",
      "Cell \u001b[0;32mIn[2], line 1\u001b[0m\n\u001b[0;32m----> 1\u001b[0m a\u001b[38;5;241m=\u001b[39m\u001b[38;5;241;43m1\u001b[39;49m\u001b[38;5;241;43m/\u001b[39;49m\u001b[38;5;241;43m0\u001b[39;49m\n",
      "\u001b[0;31mZeroDivisionError\u001b[0m: division by zero"
     ]
    }
   ],
   "source": [
    "a=1/0"
   ]
  },
  {
   "cell_type": "markdown",
   "id": "89f55a9b-42bd-432f-b37a-f133122d934f",
   "metadata": {},
   "source": [
    "Q3. Which Python statements are used to catch and handle exceptions? Explain with an example."
   ]
  },
  {
   "cell_type": "markdown",
   "id": "9e952343-b415-4d6e-962a-05f825db9161",
   "metadata": {},
   "source": [
    "n Python, exceptions are raised when an error or an unexpected event occurs during program execution. To handle these exceptions and prevent the program from crashing, we use try and except statements."
   ]
  },
  {
   "cell_type": "code",
   "execution_count": 3,
   "id": "f67771f8-20f9-4d2b-bdd5-7efe70096296",
   "metadata": {},
   "outputs": [
    {
     "name": "stdout",
     "output_type": "stream",
     "text": [
      "The result of 3 divided by 6 is 0.5\n",
      "Error: division by zero\n"
     ]
    }
   ],
   "source": [
    "def divide(num1, num2):\n",
    "    try:\n",
    "        result = num1 / num2\n",
    "    except ZeroDivisionError:\n",
    "        print(\"Error: division by zero\")\n",
    "    else:\n",
    "        print(f\"The result of {num1} divided by {num2} is {result}\")\n",
    "divide(3,6)\n",
    "divide(1,0)"
   ]
  },
  {
   "cell_type": "markdown",
   "id": "33552f83-158c-44b3-beb0-1de07ddfd4be",
   "metadata": {},
   "source": [
    "Q4. Explain with an example:\n",
    "1.try and else\n",
    "2.finally\n",
    "3.raise"
   ]
  },
  {
   "cell_type": "markdown",
   "id": "dcdbb9ad-2046-4f26-b5c8-501ca784d011",
   "metadata": {},
   "source": [
    "In Python, the try statement can be followed by an optional else block. The code inside the else block is executed if the code inside the try block runs successfully without raising any exceptions. If an exception is raised, the code inside the else block is skipped."
   ]
  },
  {
   "cell_type": "code",
   "execution_count": 5,
   "id": "17616e3a-dc57-4369-96c1-37e2a912590a",
   "metadata": {},
   "outputs": [
    {
     "name": "stdout",
     "output_type": "stream",
     "text": [
      "no error occurs try is executed successfully\n"
     ]
    }
   ],
   "source": [
    "try:\n",
    "    a=1/1\n",
    "except:\n",
    "    print('an erroe occurs')\n",
    "else:\n",
    "    print('no error occurs try is executed successfully')"
   ]
  },
  {
   "cell_type": "markdown",
   "id": "1365a98d-2aef-4cc0-b62b-3a05c3afe84a",
   "metadata": {},
   "source": [
    "The finally block in Python is used to define a set of statements that will be executed regardless of whether an exception is raised or not. This block is often used to perform cleanup operations, such as closing files or network connections, that should always be done, even if an exception is raised."
   ]
  },
  {
   "cell_type": "code",
   "execution_count": 6,
   "id": "bc6d5d00-666b-440c-8264-4958e9a491c9",
   "metadata": {},
   "outputs": [
    {
     "name": "stdout",
     "output_type": "stream",
     "text": [
      "an erroe occurs\n",
      "this is always executed\n"
     ]
    }
   ],
   "source": [
    "try:\n",
    "    a=1/0\n",
    "except:\n",
    "    print('an erroe occurs')\n",
    "else:\n",
    "    print('no error occurs try is executed successfully')\n",
    "finally:\n",
    "    print('this is always executed')"
   ]
  },
  {
   "cell_type": "markdown",
   "id": "93921f26-8545-4942-a9ce-241f1c4999bd",
   "metadata": {},
   "source": [
    "In Python, the raise statement is used to raise an exception explicitly. We can use the raise statement to signal that an error has occurred in our code and provide information about the error to the caller of the code."
   ]
  },
  {
   "cell_type": "code",
   "execution_count": 8,
   "id": "f0a65ee5-1318-4ee1-b968-853cb71fdf4d",
   "metadata": {},
   "outputs": [
    {
     "name": "stdout",
     "output_type": "stream",
     "text": [
      "Cannot divide by zero!\n"
     ]
    }
   ],
   "source": [
    "def divide(num1, num2):\n",
    "    if num2 == 0:\n",
    "        raise ZeroDivisionError(\"Cannot divide by zero!\")\n",
    "    else:\n",
    "        return num1 / num2\n",
    "\n",
    "try:\n",
    "    result = divide(10, 0)\n",
    "except ZeroDivisionError as error:\n",
    "    print(error)\n",
    "else:\n",
    "    print(result)\n"
   ]
  },
  {
   "cell_type": "markdown",
   "id": "1361ccfb-1fa7-442f-8b3c-645d77689df8",
   "metadata": {},
   "source": [
    "Q5. What are Custom Exceptions in python? Why do we need Custom Ex,eptions? Explain with an example"
   ]
  },
  {
   "cell_type": "markdown",
   "id": "9f19cb5f-82ef-43f9-baba-ed74091b0cba",
   "metadata": {},
   "source": [
    "we can define our own exceptions by creating a new class that inherits from the built-in Exception class. These are called custom exceptions or user-defined exceptions. We use custom exceptions to handle specific types of errors that are not covered by the built-in exceptions in Python.To provide more specific information about an error that occurs in our code."
   ]
  },
  {
   "cell_type": "code",
   "execution_count": 9,
   "id": "5fb8a295-5a0c-4fd5-ac86-5f8fa3d46f0c",
   "metadata": {},
   "outputs": [],
   "source": [
    "class true_age(Exception):\n",
    "    def __init__(self,a):\n",
    "        self.msg=a\n",
    "    "
   ]
  },
  {
   "cell_type": "code",
   "execution_count": 10,
   "id": "cc49351a-02a1-4a05-a661-0fc5e83078fa",
   "metadata": {},
   "outputs": [],
   "source": [
    "def valid_age(age):\n",
    "    if age<0:\n",
    "        raise true_age(\"age cannot be negative\")\n",
    "    elif age>200:\n",
    "        raise true_age(\"this age is not seem true age\")\n",
    "    else:\n",
    "        raise true_age(\"this is valid age\")\n",
    "        "
   ]
  },
  {
   "cell_type": "code",
   "execution_count": 11,
   "id": "f06f3611-4363-4162-bd68-d6e8a007b4f3",
   "metadata": {},
   "outputs": [
    {
     "name": "stdin",
     "output_type": "stream",
     "text": [
      "enter your age -7\n"
     ]
    },
    {
     "name": "stdout",
     "output_type": "stream",
     "text": [
      "age cannot be negative\n"
     ]
    }
   ],
   "source": [
    "try:\n",
    "    a=int(input(\"enter your age\"))\n",
    "    valid_age(a)\n",
    "except true_age as e:\n",
    "    print(e)"
   ]
  },
  {
   "cell_type": "markdown",
   "id": "e1423952-d6c5-4015-bf12-90ab80bf20d3",
   "metadata": {},
   "source": [
    "Q6. Create custom exception class. Use this class to handle an exception."
   ]
  },
  {
   "cell_type": "code",
   "execution_count": 12,
   "id": "3489f0ef-e44d-48b4-b1fd-9d443a53f787",
   "metadata": {},
   "outputs": [],
   "source": [
    "class true_age(Exception):\n",
    "    def __init__(self,a):\n",
    "        self.msg=a\n",
    "    "
   ]
  },
  {
   "cell_type": "code",
   "execution_count": 13,
   "id": "c24a5884-303b-40b5-9f2b-6ba89d21a113",
   "metadata": {},
   "outputs": [],
   "source": [
    "def valid_age(age):\n",
    "    if age<0:\n",
    "        raise true_age(\"age cannot be negative\")\n",
    "    elif age>200:\n",
    "        raise true_age(\"this age is not seem true age\")\n",
    "    else:\n",
    "        raise true_age(\"this is valid age\")\n",
    "        "
   ]
  },
  {
   "cell_type": "code",
   "execution_count": 14,
   "id": "850d15c0-daaf-4800-a006-ca336677a7fe",
   "metadata": {},
   "outputs": [
    {
     "name": "stdin",
     "output_type": "stream",
     "text": [
      "enter your age 55\n"
     ]
    },
    {
     "name": "stdout",
     "output_type": "stream",
     "text": [
      "this is valid age\n"
     ]
    }
   ],
   "source": [
    "try:\n",
    "    a=int(input(\"enter your age\"))\n",
    "    valid_age(a)\n",
    "except true_age as e:\n",
    "    print(e)"
   ]
  },
  {
   "cell_type": "code",
   "execution_count": null,
   "id": "226badfd-d5e7-40c0-9f65-ba4c0b8c5efc",
   "metadata": {},
   "outputs": [],
   "source": []
  }
 ],
 "metadata": {
  "kernelspec": {
   "display_name": "Python 3 (ipykernel)",
   "language": "python",
   "name": "python3"
  },
  "language_info": {
   "codemirror_mode": {
    "name": "ipython",
    "version": 3
   },
   "file_extension": ".py",
   "mimetype": "text/x-python",
   "name": "python",
   "nbconvert_exporter": "python",
   "pygments_lexer": "ipython3",
   "version": "3.10.8"
  }
 },
 "nbformat": 4,
 "nbformat_minor": 5
}
