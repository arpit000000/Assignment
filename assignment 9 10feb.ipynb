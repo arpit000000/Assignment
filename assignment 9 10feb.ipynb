{
 "cells": [
  {
   "cell_type": "markdown",
   "id": "48f09805-5df1-4ddf-b448-2d415fb7db51",
   "metadata": {},
   "source": [
    "Q1. Which function is used to open a file? What are the different modes of opening a file? Explain each mode\n",
    "of file opening."
   ]
  },
  {
   "cell_type": "markdown",
   "id": "5afc3427-5e42-4f06-8ab5-19e9f0f5bf33",
   "metadata": {},
   "source": [
    "In Python, the open() function is used to open a file. It takes two arguments: the file name (including the path) and the mode in which the file should be opened.\n",
    "\n",
    "There are different modes in which a file can be opened:\n",
    "\n",
    "\"r\": This mode opens a file for reading (default mode). If the file does not exist, it will raise a FileNotFoundError.\n",
    "\"w\": This mode opens a file for writing. If the file exists, it will truncate the file to zero length. If the file does not exist, it will create a new file.\n",
    "\"a\": This mode opens a file for appending. If the file exists, the data will be written at the end of the file. If the file does not exist, it will create a new file.\n",
    "\"x\": This mode opens a file for exclusive creation, meaning it will create a new file and raise a FileExistsError if the file already exists.\n",
    "\"b\": This mode opens a file in binary mode, meaning that the data will be read and written in bytes. This is useful for working with non-text files like images or audio files.\n",
    "\"t\": This mode opens a file in text mode (default mode), meaning that the data will be read and written as text (strings).\n",
    "\"+\": This mode allows both reading and writing."
   ]
  },
  {
   "cell_type": "markdown",
   "id": "d96b5ee0-3968-4c82-aec9-58b1fd9159e5",
   "metadata": {},
   "source": [
    "Q2. Why close() function is used? Why is it important to close a file?"
   ]
  },
  {
   "cell_type": "markdown",
   "id": "5c9dcad4-f200-48c0-bae7-788570812ea8",
   "metadata": {},
   "source": [
    "The close() function is used to close a file that was opened using the open() function in Python. It's important to close a file when you're done working with it because it:\n",
    "\n",
    "Saves any changes made to the file: When a file is opened for writing or appending, any changes made to the file are stored in a buffer until the file is closed. If the file is not closed properly, the changes may not be saved.\n",
    "\n",
    "Frees up system resources: When a file is opened, the operating system allocates resources to the file, such as memory and processing power. If the file is not closed properly, these resources may not be released, which can lead to performance issues.\n",
    "\n",
    "Allows other programs to access the file: When a file is opened, it's locked by the operating system, which prevents other programs from accessing it. If the file is not closed properly, it may remain locked, preventing other programs from accessing it."
   ]
  },
  {
   "cell_type": "markdown",
   "id": "6201122e-3de2-45a1-ad03-711b21120640",
   "metadata": {},
   "source": [
    "Q3. Write a python program to create a text file. Write ‘I want to become a Data Scientist’ in that file. Then\n",
    "close the file. Open this file and read the content of the file."
   ]
  },
  {
   "cell_type": "code",
   "execution_count": 1,
   "id": "ce3b364b-bd79-418d-8bab-0b3382c610c3",
   "metadata": {},
   "outputs": [],
   "source": [
    "file=open(\"test.txt\",\"w\")\n",
    "file.write(\"I want to become a Data Scientist\")\n",
    "file.close()\n"
   ]
  },
  {
   "cell_type": "code",
   "execution_count": 2,
   "id": "6bf98955-c011-4cde-b7be-2327b9900112",
   "metadata": {},
   "outputs": [
    {
     "data": {
      "text/plain": [
       "'I want to become a Data Scientist'"
      ]
     },
     "execution_count": 2,
     "metadata": {},
     "output_type": "execute_result"
    }
   ],
   "source": [
    "file=open(\"test.txt\",\"r\")\n",
    "file.read()"
   ]
  },
  {
   "cell_type": "markdown",
   "id": "854cb4f6-244f-4703-bd08-a89ed882fb9e",
   "metadata": {},
   "source": [
    "Q4. Explain the following with python code: read(), readline() and readlines()."
   ]
  },
  {
   "cell_type": "markdown",
   "id": "11b07ff8-76c1-40b5-b4bf-246cc5d70ab1",
   "metadata": {},
   "source": [
    "The read() method is then called on the file object to read the entire contents of the file into the contents variable, which is then printed to the console.\n",
    "In this example, the readline() function is called once to read the first line of the file into the line variable, which is then printed to the console.\n",
    "the readlines() function is called to read all lines of text from the file into the lines variable, which is then printed to the console. Each line of the file is stored as a separate string in the list."
   ]
  },
  {
   "cell_type": "code",
   "execution_count": 7,
   "id": "73cb96ed-f194-4b3d-990c-732abdba68df",
   "metadata": {},
   "outputs": [
    {
     "name": "stdout",
     "output_type": "stream",
     "text": [
      "this is line 1\n",
      "this is new line2\n",
      "this is line 1\n",
      "\n",
      "['this is line 1\\n', 'this is new line2']\n"
     ]
    }
   ],
   "source": [
    "with open('example.txt','w') as f:\n",
    "    f.write(\"this is line 1\\n\")\n",
    "    f.write(\"this is new line2\")\n",
    "with open('example.txt','r') as f:\n",
    "    print(f.read())\n",
    "    f.seek(0)\n",
    "    print(f.readline())\n",
    "    f.seek(0)\n",
    "    print(f.readlines())"
   ]
  },
  {
   "cell_type": "markdown",
   "id": "c2a4a764-115f-431c-90c6-4e22af3d7da0",
   "metadata": {},
   "source": [
    "Q5. Explain why with statement is used with open(). What is the advantage of using with statement and\n",
    "open() together?"
   ]
  },
  {
   "cell_type": "markdown",
   "id": "202628e7-0940-4801-a5fe-5108e4564356",
   "metadata": {},
   "source": [
    "The advantage of using the with statement with the open() function is that it ensures that the file is properly closed, even if an error occurs. For example, if an exception is raised inside the with block, the file will still be closed before the exception is propagated to the caller. This is important because leaving a file open can cause data corruption, performance issues, or even a system crash."
   ]
  },
  {
   "cell_type": "markdown",
   "id": "18252abf-808b-499c-9561-363523e8a40a",
   "metadata": {},
   "source": [
    "Q6. Explain the write() and writelines() functions. Give a suitable example."
   ]
  },
  {
   "cell_type": "markdown",
   "id": "b8bbb90f-6efa-4831-aafa-77736f399517",
   "metadata": {},
   "source": [
    "The write() function is used to write a single string to a file, whereas the writelines() function is used to write multiple strings to a file. Here's an example of how to use both functions:"
   ]
  },
  {
   "cell_type": "code",
   "execution_count": 4,
   "id": "07814b28-8474-4555-b766-57e1a6f74667",
   "metadata": {},
   "outputs": [],
   "source": [
    "with open(\"write.txt\",\"w\") as f:\n",
    "    f.write(\"this is line 1\\n\")\n",
    "    f.write(\"this is new line2\")\n",
    "    "
   ]
  },
  {
   "cell_type": "code",
   "execution_count": 7,
   "id": "a32f5a54-aa01-43db-b5da-6dc0afc99b4c",
   "metadata": {},
   "outputs": [],
   "source": [
    "with open('write2.txt',\"w\") as f1:\n",
    "    l=[\"this is line is\\n\",\"this is line 2\"]\n",
    "    f1.writelines(l)"
   ]
  },
  {
   "cell_type": "code",
   "execution_count": null,
   "id": "7378951f-46b5-4165-9a2b-1e730fafaea8",
   "metadata": {},
   "outputs": [],
   "source": []
  }
 ],
 "metadata": {
  "kernelspec": {
   "display_name": "Python 3 (ipykernel)",
   "language": "python",
   "name": "python3"
  },
  "language_info": {
   "codemirror_mode": {
    "name": "ipython",
    "version": 3
   },
   "file_extension": ".py",
   "mimetype": "text/x-python",
   "name": "python",
   "nbconvert_exporter": "python",
   "pygments_lexer": "ipython3",
   "version": "3.10.8"
  }
 },
 "nbformat": 4,
 "nbformat_minor": 5
}
