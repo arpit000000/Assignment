{
 "cells": [
  {
   "cell_type": "markdown",
   "id": "58762172-e576-47f6-8245-cda067b98c9f",
   "metadata": {},
   "source": [
    "Q1. What is a database? Differentiate between SQL and NoSQL databases.\n",
    "\n",
    "A database is a structured collection of data that is stored and managed in a computer system. It provides a systematic way of organizing, storing, and retrieving data, making it easier to manage and access large amounts of data.\n",
    "\n",
    "SQL (Structured Query Language) and NoSQL (Not Only SQL) are two different types of databases. SQL databases are relational databases that store data in a structured manner and use SQL for querying data. They have a well-defined schema and are suitable for applications that require complex queries and transactions. Examples of SQL databases include MySQL, Oracle, and PostgreSQL.\n",
    "\n",
    "NoSQL databases, on the other hand, do not use a fixed schema and store data in a non-tabular manner. They are suitable for applications that require high scalability and flexibility. Examples of NoSQL databases include MongoDB, Cassandra, and Couchbase."
   ]
  },
  {
   "cell_type": "markdown",
   "id": "166a6ff8-7918-443e-a1da-ac217e4d6525",
   "metadata": {},
   "source": [
    "Q2. What is DDL? Explain why CREATE, DROP, ALTER, and TRUNCATE are used with an example.\n",
    "\n",
    "DDL (Data Definition Language) is a set of SQL commands used to define and manage the structure of a database. CREATE is used to create a new table, database, or other database objects. For example, the following command creates a new table named \"employees\":\n",
    "\n",
    "CREATE TABLE employees (\n",
    "id INT PRIMARY KEY,\n",
    "name VARCHAR(50),\n",
    "salary DECIMAL(10,2)\n",
    ");\n",
    "\n",
    "DROP is used to delete a database, table, or other database objects. For example, the following command drops the \"employees\" table:\n",
    "\n",
    "DROP TABLE employees;\n",
    "\n",
    "ALTER is used to modify the structure of a table, such as adding or deleting columns. For example, the following command adds a new column \"age\" to the \"employees\" table:\n",
    "\n",
    "ALTER TABLE employees ADD age INT;\n",
    "\n",
    "TRUNCATE is used to remove all data from a table. For example, the following command removes all data from the \"employees\" table:\n",
    "\n",
    "TRUNCATE TABLE employees;"
   ]
  },
  {
   "cell_type": "markdown",
   "id": "7d0b1e40-8ce8-4785-b04e-168cf97119b6",
   "metadata": {},
   "source": [
    "Q3. What is DML? Explain INSERT, UPDATE, and DELETE with an example.\n",
    "\n",
    "DML (Data Manipulation Language) is a set of SQL commands used to manipulate data in a database. INSERT is used to insert new data into a table. For example, the following command inserts a new record into the \"employees\" table:\n",
    "\n",
    "INSERT INTO employees (id, name, salary) VALUES (1, 'John Smith', 50000.00);\n",
    "\n",
    "UPDATE is used to modify existing data in a table. For example, the following command updates the salary of the employee with ID 1:\n",
    "\n",
    "UPDATE employees SET salary = 60000.00 WHERE id = 1;\n",
    "\n",
    "DELETE is used to delete data from a table. For example, the following command deletes the employee with ID 1 from the \"employees\" table:\n",
    "\n",
    "DELETE FROM employees WHERE id = 1;"
   ]
  },
  {
   "cell_type": "markdown",
   "id": "66b1344f-348b-4461-8684-8baaf95f20b8",
   "metadata": {},
   "source": [
    "Q4. What is DQL? Explain SELECT with an example.\n",
    "\n",
    "DQL (Data Query Language) is a set of SQL commands used to retrieve data from a database. SELECT is used to retrieve data from one or more tables. For example, the following command retrieves all data from the \"employees\" table:\n",
    "\n",
    "SELECT * FROM employees;\n",
    "\n",
    "The \"*\" means all columns in the \"employees\" table will be retrieved. You can also select specific columns using their names:\n",
    "\n",
    "SELECT name, salary FROM employees;\n",
    "\n",
    "This command retrieves only the \"name\" and \"salary\" columns from the \"employees\" table."
   ]
  },
  {
   "cell_type": "markdown",
   "id": "b89dba32-b762-419e-bf5b-72cdde05e3ea",
   "metadata": {},
   "source": [
    "Q5. Explain Primary Key and Foreign Key."
   ]
  },
  {
   "cell_type": "markdown",
   "id": "54e53c13-ba10-4fee-895f-3bacd7496e92",
   "metadata": {},
   "source": [
    "A primary key is a column or set of columns in a table that uniquely identifies each record in that table. It must be unique for each record and cannot contain NULL values. A primary key is used to establish relationships with other tables in the database, and is often used as a foreign key in other tables.\n",
    "\n",
    "A foreign key is a column or set of columns in a table that references the primary key of another table. It establishes a relationship between the two tables, and ensures that data in the referencing table is consistent with the data in the referenced table. For example, in a \"orders\" table, the \"customer_id\" column might be a foreign key that references the \"id\" column in a \"customers\" table. This ensures that every order in the \"orders\" table is associated with a valid customer in the \"customers\" table."
   ]
  },
  {
   "cell_type": "code",
   "execution_count": null,
   "id": "ff5927d3-9b99-4488-87bd-e4bdf9c141c7",
   "metadata": {},
   "outputs": [],
   "source": []
  }
 ],
 "metadata": {
  "kernelspec": {
   "display_name": "Python 3 (ipykernel)",
   "language": "python",
   "name": "python3"
  },
  "language_info": {
   "codemirror_mode": {
    "name": "ipython",
    "version": 3
   },
   "file_extension": ".py",
   "mimetype": "text/x-python",
   "name": "python",
   "nbconvert_exporter": "python",
   "pygments_lexer": "ipython3",
   "version": "3.10.8"
  }
 },
 "nbformat": 4,
 "nbformat_minor": 5
}
