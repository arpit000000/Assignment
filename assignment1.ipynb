{
 "cells": [
  {
   "cell_type": "markdown",
   "id": "c5c3d193-ea65-4396-80b9-b26dc4f5a011",
   "metadata": {},
   "source": [
    "Q1. Who developed Python Programming Language? \n",
    "Ans. python programming language is developed by Guido Van Rossum."
   ]
  },
  {
   "cell_type": "markdown",
   "id": "c06bc510-a431-44ef-abce-7cd418b08631",
   "metadata": {},
   "source": [
    "Q2. Which type of Programming does Python support?\n",
    "Ans. OOP(object oriented programming language)."
   ]
  },
  {
   "cell_type": "markdown",
   "id": "f01d7c2c-1d0d-4629-9c46-273b5538c70e",
   "metadata": {},
   "source": [
    "Q3. is Python case sensitive when dealing with identifiers? \n",
    "Ans. Yes python is a case sensitive language."
   ]
  },
  {
   "cell_type": "markdown",
   "id": "779ce8d8-dc5a-4aeb-a402-b62460a21c1c",
   "metadata": {},
   "source": [
    "Q4. What is the correct extension of the Python file? \n",
    "Ans. .py "
   ]
  },
  {
   "cell_type": "markdown",
   "id": "4e9b4209-e7b3-42af-b298-0ab6ac875ac5",
   "metadata": {},
   "source": [
    "Q5. 1s Python code complied or interpreted?\n",
    "Ans. interpreted (basically it is first compiled and then interpret)"
   ]
  },
  {
   "cell_type": "markdown",
   "id": "46ef5408-9983-4af5-a176-da585b9c73c1",
   "metadata": {},
   "source": [
    "Q6. Name a few blocks of code used to define in Python language? \n",
    "Ans. n=10"
   ]
  },
  {
   "cell_type": "markdown",
   "id": "62c8c888-01b0-4462-bcc2-40ef55302db6",
   "metadata": {},
   "source": [
    "Q7. State a character used to give single-line comments in Python?\n",
    "Ans. #"
   ]
  },
  {
   "cell_type": "markdown",
   "id": "9bd45a4c-d7e4-4154-9a6f-aa4c98f5289b",
   "metadata": {},
   "source": [
    "Q8. Mention functions which can help usto find the version of python that we are currently working on?\n",
    "Ans. import sys sys.version can help us to find the version of python that we are currently working on"
   ]
  },
  {
   "cell_type": "markdown",
   "id": "a95df9c6-9674-4d2b-a44f-56fb0a2b071b",
   "metadata": {},
   "source": [
    "Q9.Python supports the creation of anonymous function at runtime,using a construct called \n",
    "Ans. lambda"
   ]
  },
  {
   "cell_type": "markdown",
   "id": "8629cbab-fc50-4858-a5b9-921df17a69cc",
   "metadata": {},
   "source": [
    "Q10. What does pip stand for python?\n",
    "Ans. PIP is a package manager for Python packages, or modules."
   ]
  },
  {
   "cell_type": "markdown",
   "id": "c01750dd-b3f4-474b-baf8-858b678ad1ba",
   "metadata": {},
   "source": [
    "Q11. Mention a few built-in functionsin python?\n",
    "Ans. print(),dict(),zip(),range(),ord(),chr(),id(),count(),upper()"
   ]
  },
  {
   "cell_type": "markdown",
   "id": "cc696bbe-047b-4e3a-bc86-01c4d5dd611d",
   "metadata": {},
   "source": [
    "Q12. What is the maximum possible length of an identifier in Python?\n",
    "Ans. 79 character"
   ]
  },
  {
   "cell_type": "markdown",
   "id": "b16f3703-c0af-4791-a59d-49faa8d8c40e",
   "metadata": {},
   "source": [
    "Q13. What are the benefits of using Python?\n",
    "Ans. 1. High level language\n",
    "    2. interpreted\n",
    "    3. object oriented\n",
    "    4. Dynamic\n",
    "    5. Easy to learn"
   ]
  },
  {
   "cell_type": "markdown",
   "id": "539d782b-35d0-40a0-81f4-3db470824f77",
   "metadata": {},
   "source": [
    "Q14. How is memory managedin Python?\n",
    "Ans. Python has a private heap that stores our program’s objects and data structures. Python memory manager takes       care of the bulk of the memory management work and allows us to concentrate on our code.\n",
    "    1.static memory\n",
    "    2.dynamic memory"
   ]
  },
  {
   "cell_type": "markdown",
   "id": "edee8ee6-2540-4044-b2fe-41b43360f36c",
   "metadata": {},
   "source": [
    "Q15.  How to install Python on Windows and set path variables?\n",
    "Ans. firstly downlord python from browser and then install it while install it takes access from you and after thet it give a option to select path if you does not give then it default path give to it."
   ]
  },
  {
   "cell_type": "markdown",
   "id": "b4ef2148-55f7-4d9d-a443-79e6383b6a5f",
   "metadata": {},
   "source": [
    "Q16.  Is indentation required in python?\n",
    "Ans. Yes, without indentation it give us indentation error"
   ]
  }
 ],
 "metadata": {
  "kernelspec": {
   "display_name": "Python 3 (ipykernel)",
   "language": "python",
   "name": "python3"
  },
  "language_info": {
   "codemirror_mode": {
    "name": "ipython",
    "version": 3
   },
   "file_extension": ".py",
   "mimetype": "text/x-python",
   "name": "python",
   "nbconvert_exporter": "python",
   "pygments_lexer": "ipython3",
   "version": "3.10.8"
  }
 },
 "nbformat": 4,
 "nbformat_minor": 5
}
