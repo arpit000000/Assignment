{
 "cells": [
  {
   "cell_type": "markdown",
   "id": "efb7f43b-79af-403b-8ba0-711f5a149fc5",
   "metadata": {},
   "source": [
    "Q1. List any five functions of the pandas library with execution."
   ]
  },
  {
   "cell_type": "markdown",
   "id": "40c820af-7ca0-48e1-b428-7928ba8f6d10",
   "metadata": {},
   "source": [
    "1. read_csv: This function is used to read a CSV (Comma-Separated Values) file and create a DataFrame.\n",
    "\n",
    "2. head: This function returns the first n rows of a DataFrame.\n",
    "\n",
    "3. info: This function provides a summary of a DataFrame, including the number of non-null values and data types of each column.\n",
    "4. describe: This function generates descriptive statistics of a DataFrame, such as count, mean, standard deviation, etc.\n",
    "5. groupby: This function is used to group a DataFrame by one or more columns and perform operations on the grouped data."
   ]
  },
  {
   "cell_type": "code",
   "execution_count": 14,
   "id": "1a1b4470-21b8-41d3-b3e9-cb76bc92ebd8",
   "metadata": {},
   "outputs": [
    {
     "name": "stdout",
     "output_type": "stream",
     "text": [
      "     Name  Age  Gender  Marks  Marks1\n",
      "0   Alice   17  Female     70      45\n",
      "1     Bob   41    Male     70      70\n",
      "2  Claire   27  Female     24      24\n",
      "             Age      Marks     Marks1\n",
      "count   3.000000   3.000000   3.000000\n",
      "mean   28.333333  54.666667  46.333333\n",
      "std    12.055428  26.558112  23.028967\n",
      "min    17.000000  24.000000  24.000000\n",
      "25%    22.000000  47.000000  34.500000\n",
      "50%    27.000000  70.000000  45.000000\n",
      "75%    34.000000  70.000000  57.500000\n",
      "max    41.000000  70.000000  70.000000\n",
      "<class 'pandas.core.frame.DataFrame'>\n",
      "RangeIndex: 3 entries, 0 to 2\n",
      "Data columns (total 5 columns):\n",
      " #   Column  Non-Null Count  Dtype \n",
      "---  ------  --------------  ----- \n",
      " 0   Name    3 non-null      object\n",
      " 1   Age     3 non-null      int64 \n",
      " 2   Gender  3 non-null      object\n",
      " 3   Marks   3 non-null      int64 \n",
      " 4   Marks1  3 non-null      int64 \n",
      "dtypes: int64(3), object(2)\n",
      "memory usage: 248.0+ bytes\n",
      "None\n",
      "     Name  Age  Gender  Marks  Marks1\n",
      "0   Alice   17  Female     70      45\n",
      "1     Bob   41    Male     70      70\n",
      "2  Claire   27  Female     24      24\n",
      "        Age  Marks1\n",
      "Marks              \n",
      "24     27.0    24.0\n",
      "70     29.0    57.5\n"
     ]
    },
    {
     "name": "stderr",
     "output_type": "stream",
     "text": [
      "/tmp/ipykernel_77/1509396505.py:9: FutureWarning: The default value of numeric_only in DataFrameGroupBy.mean is deprecated. In a future version, numeric_only will default to False. Either specify numeric_only or select only columns which should be valid for the function.\n",
      "  print(s.mean())\n"
     ]
    }
   ],
   "source": [
    "import pandas as pd\n",
    "d={'Name':['Alice','Bob','Claire'],'Age':[17,41,27],'Gender':['Female','Male','Female'],'Marks':[70,70,24],'Marks1':[45,70,24]}\n",
    "data=pd.DataFrame(d)\n",
    "print(data)\n",
    "print(data.describe())\n",
    "print(data.info())\n",
    "print(data.head())\n",
    "s=data.groupby('Marks')\n",
    "print(s.mean())"
   ]
  },
  {
   "cell_type": "markdown",
   "id": "fc896a70-44c9-48a0-a8e1-6875146233c6",
   "metadata": {},
   "source": [
    "Q2. Given a Pandas DataFrame df with columns 'A', 'B', and 'C', write a Python function to re-index the\n",
    "DataFrame with a new index that starts from 1 and increments by 2 for each row."
   ]
  },
  {
   "cell_type": "code",
   "execution_count": 19,
   "id": "83098384-3af2-4c10-a4a0-ac584965a21a",
   "metadata": {},
   "outputs": [
    {
     "name": "stdout",
     "output_type": "stream",
     "text": [
      "   A  B  C\n",
      "1  1  4  7\n",
      "3  2  5  8\n",
      "5  3  6  9\n"
     ]
    }
   ],
   "source": [
    "df=pd.DataFrame({'A':[1,2,3],'B':[4,5,6],'C':[7,8,9]})\n",
    "def re_ind(df):\n",
    "    new_ind=pd.Index(range(1,len(df)*2,2))\n",
    "    df.set_index(new_ind,inplace=True)\n",
    "    return df\n",
    "df=re_ind(df)\n",
    "print(df)"
   ]
  },
  {
   "cell_type": "markdown",
   "id": "c14f91ba-f50b-49ee-aeb7-300a1dfb6b50",
   "metadata": {},
   "source": [
    "Q3. You have a Pandas DataFrame df with a column named 'Values'. Write a Python function that\n",
    "iterates over the DataFrame and calculates the sum of the first three values in the 'Values' column. The\n",
    "function should print the sum to the console."
   ]
  },
  {
   "cell_type": "code",
   "execution_count": 23,
   "id": "78bb43b6-0f62-40e1-bbf1-5caffd861bc0",
   "metadata": {},
   "outputs": [
    {
     "name": "stdout",
     "output_type": "stream",
     "text": [
      "   Values\n",
      "0      10\n",
      "1      20\n",
      "2      30\n",
      "3      40\n",
      "The sum of first three is: 60\n"
     ]
    }
   ],
   "source": [
    "df=pd.DataFrame({'Values':[10,20,30,40]})\n",
    "def ite(df):\n",
    "    val=df['Values']\n",
    "    val=val[0:3]\n",
    "    s=sum(val)\n",
    "    print('The sum of first three is:',s)\n",
    "print(df)\n",
    "ite(df)  "
   ]
  },
  {
   "cell_type": "markdown",
   "id": "bfdba517-73d4-4ab3-a431-a020cde28944",
   "metadata": {},
   "source": [
    "Q4. Given a Pandas DataFrame df with a column 'Text', write a Python function to create a new column\n",
    "'Word_Count' that contains the number of words in each row of the 'Text' column."
   ]
  },
  {
   "cell_type": "code",
   "execution_count": 32,
   "id": "41cbef94-7793-432e-910f-324c795e500a",
   "metadata": {},
   "outputs": [
    {
     "name": "stdout",
     "output_type": "stream",
     "text": [
      "0    5\n",
      "1    1\n",
      "2    1\n",
      "Name: Text, dtype: int64\n",
      "                  Text  Word_Count\n",
      "0  Arpit is a good boy           5\n",
      "1                Jadon           1\n",
      "2                Noida           1\n"
     ]
    }
   ],
   "source": [
    "df=pd.DataFrame({'Text':['Arpit is a good boy','Jadon','Noida']})\n",
    "def count(df):\n",
    "    s=df['Word_Count']=df['Text'].str.split().apply(len)\n",
    "    print(s)\n",
    "count(df)\n",
    "print(df)"
   ]
  },
  {
   "cell_type": "markdown",
   "id": "d5caae2c-f7e4-4857-8160-24b03324d35f",
   "metadata": {},
   "source": [
    "Q5. How are DataFrame.size() and DataFrame.shape() different?"
   ]
  },
  {
   "cell_type": "markdown",
   "id": "7392283e-3860-4da0-938e-49c8eab185ce",
   "metadata": {},
   "source": [
    "DataFrame.size() returns the total number of elements in the DataFrame, which is equal to the product of the number of rows and columns.\n",
    "\n",
    "DataFrame.shape() returns a tuple representing the dimensions of the DataFrame in the form (number of rows, number of columns)."
   ]
  },
  {
   "cell_type": "markdown",
   "id": "6f0443a6-7680-4cef-ae08-34e3998a01f4",
   "metadata": {},
   "source": [
    "Q6. Which function of pandas do we use to read an excel file?"
   ]
  },
  {
   "cell_type": "markdown",
   "id": "6e98cc2a-b628-41aa-a3d2-0bd0157a14f5",
   "metadata": {},
   "source": [
    "Ans pd.read_csv()"
   ]
  },
  {
   "cell_type": "markdown",
   "id": "df6df370-db40-4289-b1e8-a414c1db2431",
   "metadata": {},
   "source": [
    "Q7. You have a Pandas DataFrame df that contains a column named 'Email' that contains email\n",
    "addresses in the format 'username@domain.com'. Write a Python function that creates a new column\n",
    "'Username' in df that contains only the username part of each email address.\n",
    "The username is the part of the email address that appears before the '@' symbol. For example, if the\n",
    "email address is 'john.doe@example.com', the 'Username' column should contain 'john.doe'. Your\n",
    "function should extract the username from each email address and store it in the new 'Username'\n",
    "column."
   ]
  },
  {
   "cell_type": "code",
   "execution_count": 39,
   "id": "175d0fc2-1ce1-401b-9287-a2d002ca3d25",
   "metadata": {},
   "outputs": [
    {
     "name": "stdout",
     "output_type": "stream",
     "text": [
      "                    Email    Username\n",
      "0    john.doe@example.com    john.doe\n",
      "1  jane.smith@example.com  jane.smith\n"
     ]
    }
   ],
   "source": [
    "import pandas as pd\n",
    "def new(df):\n",
    "    df['Username']=df['Email'].str.split('@').str[0]\n",
    "    return df\n",
    "df = pd.DataFrame({'Email': ['john.doe@example.com', 'jane.smith@example.com']})\n",
    "df = new(df)\n",
    "print(df)"
   ]
  },
  {
   "cell_type": "markdown",
   "id": "88a813b8-1e0d-4105-aa0e-2863a2d2e290",
   "metadata": {},
   "source": [
    "Q8. You have a Pandas DataFrame df with columns 'A', 'B', and 'C'. Write a Python function that selects\n",
    "all rows where the value in column 'A' is greater than 5 and the value in column 'B' is less than 10. The\n",
    "function should return a new DataFrame that contains only the selected rows."
   ]
  },
  {
   "cell_type": "code",
   "execution_count": 49,
   "id": "0cf777b5-786b-4fb6-a229-c5b308b84646",
   "metadata": {},
   "outputs": [
    {
     "name": "stdout",
     "output_type": "stream",
     "text": [
      "   A  B  C\n",
      "1  8  2  7\n",
      "2  6  9  4\n",
      "4  9  1  2\n"
     ]
    }
   ],
   "source": [
    "df=pd.DataFrame({'A':[3,8,6,2,9],'B':[5,2,9,3,1],'C':[1,7,4,5,2]})\n",
    "def clear(df):\n",
    "    row=df[(df['A']>5) & (df['B']<10)]\n",
    "    print(row)\n",
    "clear(df)"
   ]
  },
  {
   "cell_type": "markdown",
   "id": "e554cf2d-f0a7-4a19-8d19-7a9d896f33a5",
   "metadata": {},
   "source": [
    "Q9. Given a Pandas DataFrame df with a column 'Values', write a Python function to calculate the mean,\n",
    "median, and standard deviation of the values in the 'Values' column."
   ]
  },
  {
   "cell_type": "code",
   "execution_count": 52,
   "id": "426749e0-bedc-4c89-b113-875716030d51",
   "metadata": {},
   "outputs": [
    {
     "data": {
      "text/html": [
       "<div>\n",
       "<style scoped>\n",
       "    .dataframe tbody tr th:only-of-type {\n",
       "        vertical-align: middle;\n",
       "    }\n",
       "\n",
       "    .dataframe tbody tr th {\n",
       "        vertical-align: top;\n",
       "    }\n",
       "\n",
       "    .dataframe thead th {\n",
       "        text-align: right;\n",
       "    }\n",
       "</style>\n",
       "<table border=\"1\" class=\"dataframe\">\n",
       "  <thead>\n",
       "    <tr style=\"text-align: right;\">\n",
       "      <th></th>\n",
       "      <th>Values</th>\n",
       "    </tr>\n",
       "  </thead>\n",
       "  <tbody>\n",
       "    <tr>\n",
       "      <th>count</th>\n",
       "      <td>4.000000</td>\n",
       "    </tr>\n",
       "    <tr>\n",
       "      <th>mean</th>\n",
       "      <td>25.000000</td>\n",
       "    </tr>\n",
       "    <tr>\n",
       "      <th>std</th>\n",
       "      <td>12.909944</td>\n",
       "    </tr>\n",
       "    <tr>\n",
       "      <th>min</th>\n",
       "      <td>10.000000</td>\n",
       "    </tr>\n",
       "    <tr>\n",
       "      <th>25%</th>\n",
       "      <td>17.500000</td>\n",
       "    </tr>\n",
       "    <tr>\n",
       "      <th>50%</th>\n",
       "      <td>25.000000</td>\n",
       "    </tr>\n",
       "    <tr>\n",
       "      <th>75%</th>\n",
       "      <td>32.500000</td>\n",
       "    </tr>\n",
       "    <tr>\n",
       "      <th>max</th>\n",
       "      <td>40.000000</td>\n",
       "    </tr>\n",
       "  </tbody>\n",
       "</table>\n",
       "</div>"
      ],
      "text/plain": [
       "          Values\n",
       "count   4.000000\n",
       "mean   25.000000\n",
       "std    12.909944\n",
       "min    10.000000\n",
       "25%    17.500000\n",
       "50%    25.000000\n",
       "75%    32.500000\n",
       "max    40.000000"
      ]
     },
     "execution_count": 52,
     "metadata": {},
     "output_type": "execute_result"
    }
   ],
   "source": [
    "df=pd.DataFrame({'Values':[10,20,30,40]})\n",
    "def agg(df):\n",
    "    return df.describe()\n",
    "agg(df)"
   ]
  },
  {
   "cell_type": "markdown",
   "id": "52d616e6-4fd8-405b-a7de-d91565f5b16f",
   "metadata": {},
   "source": [
    "Q10. Given a Pandas DataFrame df with a column 'Sales' and a column 'Date', write a Python function to\n",
    "create a new column 'MovingAverage' that contains the moving average of the sales for the past 7 days\n",
    "for each row in the DataFrame. The moving average should be calculated using a window of size 7 and\n",
    "should include the current day."
   ]
  },
  {
   "cell_type": "code",
   "execution_count": 5,
   "id": "e68daa08-0835-4c95-ae42-ccb40a3e3b58",
   "metadata": {},
   "outputs": [
    {
     "data": {
      "text/html": [
       "<div>\n",
       "<style scoped>\n",
       "    .dataframe tbody tr th:only-of-type {\n",
       "        vertical-align: middle;\n",
       "    }\n",
       "\n",
       "    .dataframe tbody tr th {\n",
       "        vertical-align: top;\n",
       "    }\n",
       "\n",
       "    .dataframe thead th {\n",
       "        text-align: right;\n",
       "    }\n",
       "</style>\n",
       "<table border=\"1\" class=\"dataframe\">\n",
       "  <thead>\n",
       "    <tr style=\"text-align: right;\">\n",
       "      <th></th>\n",
       "      <th>Date</th>\n",
       "      <th>Sales</th>\n",
       "      <th>MovingAverage</th>\n",
       "    </tr>\n",
       "  </thead>\n",
       "  <tbody>\n",
       "    <tr>\n",
       "      <th>0</th>\n",
       "      <td>2023-01-01</td>\n",
       "      <td>10</td>\n",
       "      <td>10.0</td>\n",
       "    </tr>\n",
       "    <tr>\n",
       "      <th>1</th>\n",
       "      <td>2023-01-02</td>\n",
       "      <td>20</td>\n",
       "      <td>15.0</td>\n",
       "    </tr>\n",
       "    <tr>\n",
       "      <th>2</th>\n",
       "      <td>2023-01-03</td>\n",
       "      <td>30</td>\n",
       "      <td>20.0</td>\n",
       "    </tr>\n",
       "    <tr>\n",
       "      <th>3</th>\n",
       "      <td>2023-01-04</td>\n",
       "      <td>40</td>\n",
       "      <td>25.0</td>\n",
       "    </tr>\n",
       "    <tr>\n",
       "      <th>4</th>\n",
       "      <td>2023-01-05</td>\n",
       "      <td>50</td>\n",
       "      <td>30.0</td>\n",
       "    </tr>\n",
       "    <tr>\n",
       "      <th>5</th>\n",
       "      <td>2023-01-06</td>\n",
       "      <td>60</td>\n",
       "      <td>35.0</td>\n",
       "    </tr>\n",
       "    <tr>\n",
       "      <th>6</th>\n",
       "      <td>2023-01-07</td>\n",
       "      <td>70</td>\n",
       "      <td>40.0</td>\n",
       "    </tr>\n",
       "    <tr>\n",
       "      <th>7</th>\n",
       "      <td>2023-01-08</td>\n",
       "      <td>80</td>\n",
       "      <td>50.0</td>\n",
       "    </tr>\n",
       "    <tr>\n",
       "      <th>8</th>\n",
       "      <td>2023-01-09</td>\n",
       "      <td>90</td>\n",
       "      <td>60.0</td>\n",
       "    </tr>\n",
       "    <tr>\n",
       "      <th>9</th>\n",
       "      <td>2023-01-10</td>\n",
       "      <td>100</td>\n",
       "      <td>70.0</td>\n",
       "    </tr>\n",
       "  </tbody>\n",
       "</table>\n",
       "</div>"
      ],
      "text/plain": [
       "         Date  Sales  MovingAverage\n",
       "0  2023-01-01     10           10.0\n",
       "1  2023-01-02     20           15.0\n",
       "2  2023-01-03     30           20.0\n",
       "3  2023-01-04     40           25.0\n",
       "4  2023-01-05     50           30.0\n",
       "5  2023-01-06     60           35.0\n",
       "6  2023-01-07     70           40.0\n",
       "7  2023-01-08     80           50.0\n",
       "8  2023-01-09     90           60.0\n",
       "9  2023-01-10    100           70.0"
      ]
     },
     "execution_count": 5,
     "metadata": {},
     "output_type": "execute_result"
    }
   ],
   "source": [
    "import pandas as pd\n",
    "df = pd.DataFrame({'Date': ['2023-01-01', '2023-01-02', '2023-01-03', '2023-01-04', '2023-01-05',\n",
    "                            '2023-01-06', '2023-01-07', '2023-01-08', '2023-01-09', '2023-01-10'],\n",
    "                   'Sales': [10, 20, 30, 40, 50, 60, 70, 80, 90, 100]})\n",
    "def avg(df):\n",
    "    df['MovingAverage']=df['Sales'].rolling(window=7,min_periods=1).mean()\n",
    "    return df\n",
    "avg(df)"
   ]
  },
  {
   "cell_type": "markdown",
   "id": "85c7de75-2563-418a-9780-97e9785a99fa",
   "metadata": {},
   "source": [
    "Q11. You have a Pandas DataFrame df with a column 'Date'. Write a Python function that creates a new\n",
    "column 'Weekday' in the DataFrame. The 'Weekday' column should contain the weekday name (e.g.\n",
    "Monday, Tuesday) corresponding to each date in the 'Date' column."
   ]
  },
  {
   "cell_type": "code",
   "execution_count": 10,
   "id": "cd39e051-f002-4ffa-912b-f2b2a7926d2e",
   "metadata": {},
   "outputs": [
    {
     "name": "stdout",
     "output_type": "stream",
     "text": [
      "         Date    Weekday\n",
      "0  2023-01-01     Sunday\n",
      "1  2023-01-02     Monday\n",
      "2  2023-01-03    Tuesday\n",
      "3  2023-01-04  Wednesday\n",
      "4  2023-01-05   Thursday\n"
     ]
    }
   ],
   "source": [
    "import pandas as pd\n",
    "\n",
    "def add_weekday_column(df):\n",
    "    df['Weekday'] = pd.to_datetime(df['Date']).dt.strftime('%A')\n",
    "    return df\n",
    "\n",
    "# Usage\n",
    "df = pd.DataFrame({'Date': ['2023-01-01', '2023-01-02', '2023-01-03', '2023-01-04', '2023-01-05']})\n",
    "\n",
    "df = add_weekday_column(df)\n",
    "print(df)"
   ]
  },
  {
   "cell_type": "markdown",
   "id": "07daea9b-45ac-40cc-ae17-581c525fe72e",
   "metadata": {},
   "source": [
    "Q12. Given a Pandas DataFrame df with a column 'Date' that contains timestamps, write a Python\n",
    "function to select all rows where the date is between '2023-01-01' and '2023-01-31'."
   ]
  },
  {
   "cell_type": "code",
   "execution_count": 9,
   "id": "29b8fe4a-60d0-4818-b886-d5a645ee850a",
   "metadata": {},
   "outputs": [
    {
     "data": {
      "text/html": [
       "<div>\n",
       "<style scoped>\n",
       "    .dataframe tbody tr th:only-of-type {\n",
       "        vertical-align: middle;\n",
       "    }\n",
       "\n",
       "    .dataframe tbody tr th {\n",
       "        vertical-align: top;\n",
       "    }\n",
       "\n",
       "    .dataframe thead th {\n",
       "        text-align: right;\n",
       "    }\n",
       "</style>\n",
       "<table border=\"1\" class=\"dataframe\">\n",
       "  <thead>\n",
       "    <tr style=\"text-align: right;\">\n",
       "      <th></th>\n",
       "      <th>Date</th>\n",
       "      <th>Value</th>\n",
       "    </tr>\n",
       "  </thead>\n",
       "  <tbody>\n",
       "    <tr>\n",
       "      <th>0</th>\n",
       "      <td>2023-01-01</td>\n",
       "      <td>10</td>\n",
       "    </tr>\n",
       "    <tr>\n",
       "      <th>1</th>\n",
       "      <td>2023-01-15</td>\n",
       "      <td>20</td>\n",
       "    </tr>\n",
       "    <tr>\n",
       "      <th>2</th>\n",
       "      <td>2023-01-31</td>\n",
       "      <td>30</td>\n",
       "    </tr>\n",
       "  </tbody>\n",
       "</table>\n",
       "</div>"
      ],
      "text/plain": [
       "        Date  Value\n",
       "0 2023-01-01     10\n",
       "1 2023-01-15     20\n",
       "2 2023-01-31     30"
      ]
     },
     "execution_count": 9,
     "metadata": {},
     "output_type": "execute_result"
    }
   ],
   "source": [
    "df = pd.DataFrame({'Date': ['2023-01-01', '2023-01-15', '2023-01-31', '2023-02-10'],\n",
    "                   'Value': [10, 20, 30, 40]})\n",
    "df['Date'] = pd.to_datetime(df['Date'])\n",
    "def date(df):\n",
    "    start_date = pd.to_datetime('2023-01-01')\n",
    "    end_date = pd.to_datetime('2023-01-31')\n",
    "    selected_rows = df[(df['Date'] >= start_date) & (df['Date'] <= end_date)]\n",
    "    return selected_rows\n",
    "date(df)"
   ]
  },
  {
   "cell_type": "markdown",
   "id": "4c666ade-3891-4754-9b5b-7a37fcc205d2",
   "metadata": {},
   "source": [
    "Q13. To use the basic functions of pandas, what is the first and foremost necessary library that needs to\n",
    "be imported?"
   ]
  },
  {
   "cell_type": "code",
   "execution_count": 1,
   "id": "208851a6-6720-4d89-bcea-010b7b4184e2",
   "metadata": {},
   "outputs": [],
   "source": [
    "import pandas as pd"
   ]
  },
  {
   "cell_type": "markdown",
   "id": "49508385-0624-4f01-ac4e-d8a3284639d1",
   "metadata": {},
   "source": [
    "In this import statement, pd is an alias or shorthand that is commonly used to refer to the pandas library throughout the code. It allows you to access the pandas functions and classes using the pd prefix."
   ]
  },
  {
   "cell_type": "code",
   "execution_count": null,
   "id": "609948b7-086a-486c-a0f8-b777cfa468d7",
   "metadata": {},
   "outputs": [],
   "source": []
  }
 ],
 "metadata": {
  "kernelspec": {
   "display_name": "Python 3 (ipykernel)",
   "language": "python",
   "name": "python3"
  },
  "language_info": {
   "codemirror_mode": {
    "name": "ipython",
    "version": 3
   },
   "file_extension": ".py",
   "mimetype": "text/x-python",
   "name": "python",
   "nbconvert_exporter": "python",
   "pygments_lexer": "ipython3",
   "version": "3.10.8"
  }
 },
 "nbformat": 4,
 "nbformat_minor": 5
}
