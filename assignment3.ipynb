{
 "cells": [
  {
   "cell_type": "markdown",
   "id": "634f3f01-a56f-4fbe-a525-3272e0443fa8",
   "metadata": {},
   "source": [
    "Q1. Explain with an example each when to use a for loop and a while loop.\n",
    "Ans. while loop provides a mechanism to repeat one or more statement whle a particular condition is true.\n",
    "for loop is like the while loop but in for loop is usually known as a determinate or definite loop because the programmer knows exactly how many times the loop will repeat."
   ]
  },
  {
   "cell_type": "code",
   "execution_count": 2,
   "id": "179326ec-b26f-407d-abf5-46893fe99133",
   "metadata": {},
   "outputs": [
    {
     "name": "stdout",
     "output_type": "stream",
     "text": [
      "1 2 3 4 5 6 7 8 9 "
     ]
    }
   ],
   "source": [
    "\n",
    "for i in range(1,10):\n",
    "    print(i,end=\" \")\n"
   ]
  },
  {
   "cell_type": "code",
   "execution_count": 3,
   "id": "397c35f4-9b37-4403-9dc8-cc50895afec3",
   "metadata": {},
   "outputs": [
    {
     "name": "stdout",
     "output_type": "stream",
     "text": [
      "0 1 2 3 4 5 6 7 8 9 10 "
     ]
    }
   ],
   "source": [
    "n=0\n",
    "while n<=10:\n",
    "    print(n,end=\" \")\n",
    "    n+=1\n",
    "    "
   ]
  },
  {
   "cell_type": "markdown",
   "id": "fdb4f64c-280e-49c9-b407-20908952afac",
   "metadata": {},
   "source": [
    "Q2 Write a python program to print the sum and product of the first 10 natural numbers using for\n",
    "and while loop."
   ]
  },
  {
   "cell_type": "code",
   "execution_count": 5,
   "id": "961289b7-7375-43af-9689-140ea2b2670c",
   "metadata": {},
   "outputs": [
    {
     "name": "stdout",
     "output_type": "stream",
     "text": [
      "sum of natural no. 55\n",
      "product of natural no. 3628800\n"
     ]
    }
   ],
   "source": [
    "s=0\n",
    "p=1\n",
    "for i in range(1,11):\n",
    "    s+=i\n",
    "    p=p*i\n",
    "print(\"sum of natural no.\",s)\n",
    "print(\"product of natural no.\",p)"
   ]
  },
  {
   "cell_type": "code",
   "execution_count": 8,
   "id": "4b35ab35-76f8-4796-9dc8-51827929c77d",
   "metadata": {},
   "outputs": [
    {
     "name": "stdout",
     "output_type": "stream",
     "text": [
      "sum of natural no. 55\n",
      "product of natural no. 3628800\n"
     ]
    }
   ],
   "source": [
    "n=10\n",
    "s=0\n",
    "p=1\n",
    "while n>0:\n",
    "    s+=n\n",
    "    p=p*n\n",
    "    n-=1\n",
    "print(\"sum of natural no.\",s)\n",
    "print(\"product of natural no.\",p)\n",
    "    \n",
    "    \n",
    "    "
   ]
  },
  {
   "cell_type": "markdown",
   "id": "7d7a13bf-3deb-46b5-8723-508cef1ab966",
   "metadata": {},
   "source": [
    "Q3. Create a python program to compute the electricity bill for a household.\n",
    "The per-unit charges in rupees are as follows: For the first 100 units, the user will be charged Rs. 4.5 per\n",
    "unit, for the next 100 units, the user will be charged Rs. 6 per unit, and for the next 100 units, the user will\n",
    "be charged Rs. 10 per unit, After 300 units and above the user will be charged Rs. 20 per unit.\n",
    "You are required to take the units of electricity consumed in a month from the user as input.\n",
    "Your program must pass this test case: when the unit of electricity consumed by the user in a month is\n",
    "310, the total electricity bill should be 2250."
   ]
  },
  {
   "cell_type": "code",
   "execution_count": 16,
   "id": "5d268c82-7493-4576-8897-d0007ab65144",
   "metadata": {},
   "outputs": [
    {
     "name": "stdin",
     "output_type": "stream",
     "text": [
      "enter your consumed unit:  310\n"
     ]
    },
    {
     "name": "stdout",
     "output_type": "stream",
     "text": [
      "your electricity bill is: 2250.0\n"
     ]
    }
   ],
   "source": [
    "unit=int(input(\"enter your consumed unit: \"))\n",
    "bill=0\n",
    "if unit <=100:\n",
    "    bill=unit*4.5\n",
    "elif unit <=200:\n",
    "    bill=100*4.5+((unit-100)*6)\n",
    "elif unit <=300:\n",
    "    bill=100*4.5+100*6+((unit-200)*10)\n",
    "elif unit>300:\n",
    "    bill=100*4.5+100*6+100*10+((unit-300)*20)\n",
    "else:\n",
    "    print(\"enter a valid input\")\n",
    "print(\"your electricity bill is:\",bill)\n",
    "    "
   ]
  },
  {
   "cell_type": "markdown",
   "id": "209addc9-4635-44cf-ad22-866b8e8bc635",
   "metadata": {},
   "source": [
    "Q4. Create a list of numbers from 1 to 100. Use for loop and while loop to calculate the cube of each\n",
    "number and if the cube of that number is divisible by 4 or 5 then append that number in a list and print\n",
    "that list."
   ]
  },
  {
   "cell_type": "code",
   "execution_count": 12,
   "id": "b06de976-4d36-42b4-b49a-d10352529657",
   "metadata": {},
   "outputs": [
    {
     "name": "stdout",
     "output_type": "stream",
     "text": [
      "[8, 64, 125, 216, 512, 1000, 1728, 2744, 3375, 4096, 5832, 8000, 10648, 13824, 15625, 17576, 21952, 27000, 32768, 39304, 42875, 46656, 54872, 64000, 74088, 85184, 91125, 97336, 110592, 125000, 140608, 157464, 166375, 175616, 195112, 216000, 238328, 262144, 274625, 287496, 314432, 343000, 373248, 405224, 421875, 438976, 474552, 512000, 551368, 592704, 614125, 636056, 681472, 729000, 778688, 830584, 857375, 884736, 941192, 1000000]\n"
     ]
    }
   ],
   "source": [
    "l=[]\n",
    "l1=[]\n",
    "for i in range(1,101):\n",
    "    l.append(i)\n",
    "for i in l:\n",
    "    i=i**3\n",
    "    if i%4==0 or i%5==0:\n",
    "        l1.append(i)\n",
    "print(l1)\n",
    "    "
   ]
  },
  {
   "cell_type": "markdown",
   "id": "68ea9571-eb6b-4700-be31-6012dce6f630",
   "metadata": {},
   "source": [
    "Q5. Write a program to filter count vowels in the below-given string.\n",
    "string = \"I want to become a data scientist\""
   ]
  },
  {
   "cell_type": "code",
   "execution_count": 10,
   "id": "c0cdca2e-907a-42a8-826c-e052dd056f3f",
   "metadata": {},
   "outputs": [
    {
     "name": "stdout",
     "output_type": "stream",
     "text": [
      "count: 12\n"
     ]
    }
   ],
   "source": [
    "string = \"I want to become a data scientist\"\n",
    "c=0\n",
    "for i in string:\n",
    "    if i in [\"a\",\"e\",\"i\",\"o\",\"u\",\"A\",\"E\",\"I\",\"O\",\"U\"]:\n",
    "        c+=1\n",
    "print(\"count:\",c)"
   ]
  },
  {
   "cell_type": "code",
   "execution_count": null,
   "id": "d1cf4d84-2bc5-47f9-82bb-cdbcb7e05994",
   "metadata": {},
   "outputs": [],
   "source": []
  }
 ],
 "metadata": {
  "kernelspec": {
   "display_name": "Python 3 (ipykernel)",
   "language": "python",
   "name": "python3"
  },
  "language_info": {
   "codemirror_mode": {
    "name": "ipython",
    "version": 3
   },
   "file_extension": ".py",
   "mimetype": "text/x-python",
   "name": "python",
   "nbconvert_exporter": "python",
   "pygments_lexer": "ipython3",
   "version": "3.10.8"
  }
 },
 "nbformat": 4,
 "nbformat_minor": 5
}
