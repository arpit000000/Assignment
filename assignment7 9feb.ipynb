{
 "cells": [
  {
   "cell_type": "markdown",
   "id": "a44c9fa1-1d34-4b61-a485-456a5206a4c8",
   "metadata": {},
   "source": [
    "Q1, Create a vehicle class with an init method having instance variables as name_of_vehicle, max_speed\n",
    "and average_of_vehicle."
   ]
  },
  {
   "cell_type": "code",
   "execution_count": 1,
   "id": "41387671-6cdd-4fae-8268-f18077ab0031",
   "metadata": {},
   "outputs": [],
   "source": [
    "class vehicle:\n",
    "    def __init__(self,n,m,a):\n",
    "        self.name_of_vehicle=n\n",
    "        self.max_speed=m\n",
    "        self.average_of_vehicle=a\n",
    "    def get(self):\n",
    "        return self.name_of_vehicle,self.max_speed,self.average_of_vehicle"
   ]
  },
  {
   "cell_type": "code",
   "execution_count": 12,
   "id": "c558a937-23f9-4f60-9977-2038a3b81a98",
   "metadata": {},
   "outputs": [
    {
     "name": "stdout",
     "output_type": "stream",
     "text": [
      "('TATA', 70, 15)\n"
     ]
    }
   ],
   "source": [
    "v=vehicle(\"TATA\",70,15)\n",
    "print(v.get())\n"
   ]
  },
  {
   "cell_type": "markdown",
   "id": "c4da2e08-321e-4251-8219-3ce777364e20",
   "metadata": {},
   "source": [
    "Q2. Create a child class car from the vehicle class created in Que 1, which will inherit the vehicle class.\n",
    "Create a method named seating_capacity which takes capacity as an argument and returns the name of\n",
    "the vehicle and its seating capacity."
   ]
  },
  {
   "cell_type": "code",
   "execution_count": 14,
   "id": "ff9f1934-633d-453a-9c3c-b4e8cec1ac44",
   "metadata": {},
   "outputs": [],
   "source": [
    "class car(vehicle):\n",
    "    def seating_capacity(self,c):\n",
    "        self.seating=c\n",
    "        return v.name_of_vehicle,self.seating"
   ]
  },
  {
   "cell_type": "code",
   "execution_count": 19,
   "id": "e39b45a4-e4f9-43af-8d5e-66fe90bc8e11",
   "metadata": {},
   "outputs": [
    {
     "name": "stdout",
     "output_type": "stream",
     "text": [
      "('TATA', 5)\n"
     ]
    }
   ],
   "source": [
    "v1=car(\"Tata\",80,17)\n",
    "print(v1.seating_capacity(5))"
   ]
  },
  {
   "cell_type": "markdown",
   "id": "e28ef81e-529d-4cf7-add7-a8bdb74af771",
   "metadata": {},
   "source": [
    "Q3. What is multiple inheritance? Write a python code to demonstrate multiple inheritance."
   ]
  },
  {
   "cell_type": "markdown",
   "id": "6f4e96f5-998f-48bf-840d-347729c1da00",
   "metadata": {},
   "source": [
    "Inheritance is a concept of OOP in which new class is created from an existing class.When a class is derived from more than one base class it is called multiple Inheritance. The derived class inherits all the features of the base case.\n",
    " "
   ]
  },
  {
   "cell_type": "code",
   "execution_count": 31,
   "id": "edd15414-24e9-43ba-a10f-ad48567af5e0",
   "metadata": {},
   "outputs": [],
   "source": [
    "class class1:\n",
    "    def get(self):\n",
    "        return \"this is class one\"\n"
   ]
  },
  {
   "cell_type": "code",
   "execution_count": 32,
   "id": "c0063383-a23d-4b8c-a909-e3d84f51d784",
   "metadata": {},
   "outputs": [],
   "source": [
    "class class2(class1):\n",
    "    def take(self):\n",
    "        return \"this is class two\"\n",
    "    "
   ]
  },
  {
   "cell_type": "code",
   "execution_count": 33,
   "id": "1aaf1e92-32d2-4174-9c83-bc405cd00fdf",
   "metadata": {},
   "outputs": [],
   "source": [
    "class class3(class2):\n",
    "    def a(self):\n",
    "        return \"this is class three\""
   ]
  },
  {
   "cell_type": "code",
   "execution_count": 34,
   "id": "8e039736-fad6-427a-a102-212a875ba56b",
   "metadata": {},
   "outputs": [
    {
     "name": "stdout",
     "output_type": "stream",
     "text": [
      "this is class three\n",
      "this is class two\n",
      "this is class one\n"
     ]
    }
   ],
   "source": [
    "k=class3()\n",
    "print(k.a())\n",
    "print(k.take())\n",
    "print(k.get())"
   ]
  },
  {
   "cell_type": "markdown",
   "id": "7eefcbe8-2fe6-4141-8b15-fa7e23a7171b",
   "metadata": {},
   "source": [
    "Q4. What are getter and setter in python? Create a class and create a getter and a setter method in this\n",
    "class."
   ]
  },
  {
   "cell_type": "markdown",
   "id": "d1dbbb9d-58ca-456d-9b8f-d87a4b96e367",
   "metadata": {},
   "source": [
    "In Python, a getter is a method that retrieves the value of a class attribute, while a setter is a method that sets the value of a class attribute. Getters and setters are often used to control access to class attributes, providing a way to ensure that they are set and retrieved in a consistent and safe manner."
   ]
  },
  {
   "cell_type": "code",
   "execution_count": 1,
   "id": "f85863f9-05e4-4bbe-8787-741df7c05c35",
   "metadata": {},
   "outputs": [],
   "source": [
    "class student:\n",
    "    def __init__(self,name):\n",
    "        self.name=name\n",
    "    def get(self):\n",
    "        print(self.name)\n",
    "    def set(self,name):\n",
    "        self.name=name\n",
    "        \n",
    "        "
   ]
  },
  {
   "cell_type": "code",
   "execution_count": 5,
   "id": "d7576077-1759-4c28-8232-945896157515",
   "metadata": {},
   "outputs": [
    {
     "name": "stdout",
     "output_type": "stream",
     "text": [
      "arpit\n",
      "Ram\n"
     ]
    }
   ],
   "source": [
    "a=student(\"arpit\")\n",
    "a.get()\n",
    "a.set(\"Ram\")\n",
    "a.get()"
   ]
  },
  {
   "cell_type": "markdown",
   "id": "9c63cbc6-93ef-44fe-802f-5d9688582fb0",
   "metadata": {},
   "source": [
    "Q5.What is method overriding in python? Write a python code to demonstrate method overriding."
   ]
  },
  {
   "cell_type": "markdown",
   "id": "06cf9433-9193-4dbe-9f17-3be546ce2db6",
   "metadata": {},
   "source": [
    "Method overriding is a feature in object-oriented programming where a subclass provides a different implementation for a method that is already defined in its superclass. In Python, method overriding occurs when a subclass provides its own implementation of a method that is already defined in its parent class"
   ]
  },
  {
   "cell_type": "code",
   "execution_count": 23,
   "id": "e2d95f8c-77da-4c23-913b-ce28db7d1384",
   "metadata": {},
   "outputs": [],
   "source": [
    "class sound:\n",
    "    def dog(self):\n",
    "        print(\"bark1\")\n",
    "class sound2(sound):\n",
    "    def dog(self):\n",
    "        print(\"bark2\")\n",
    "class sound3(sound2):\n",
    "    def dog(self):\n",
    "        print(\"bark3\")"
   ]
  },
  {
   "cell_type": "code",
   "execution_count": 24,
   "id": "eba1a12d-54c5-489c-a8dc-9143da908f87",
   "metadata": {},
   "outputs": [
    {
     "name": "stdout",
     "output_type": "stream",
     "text": [
      "bark1\n",
      "bark2\n",
      "bark3\n"
     ]
    }
   ],
   "source": [
    "a=sound()\n",
    "b=sound2()\n",
    "c=sound3()\n",
    "a.dog()\n",
    "b.dog()\n",
    "c.dog()"
   ]
  },
  {
   "cell_type": "code",
   "execution_count": null,
   "id": "c35fb90b-4294-47d1-af78-6d111feb8262",
   "metadata": {},
   "outputs": [],
   "source": []
  },
  {
   "cell_type": "code",
   "execution_count": null,
   "id": "2692719b-2cab-49ad-bb19-7d0434c6baeb",
   "metadata": {},
   "outputs": [],
   "source": []
  }
 ],
 "metadata": {
  "kernelspec": {
   "display_name": "Python 3 (ipykernel)",
   "language": "python",
   "name": "python3"
  },
  "language_info": {
   "codemirror_mode": {
    "name": "ipython",
    "version": 3
   },
   "file_extension": ".py",
   "mimetype": "text/x-python",
   "name": "python",
   "nbconvert_exporter": "python",
   "pygments_lexer": "ipython3",
   "version": "3.10.8"
  }
 },
 "nbformat": 4,
 "nbformat_minor": 5
}
