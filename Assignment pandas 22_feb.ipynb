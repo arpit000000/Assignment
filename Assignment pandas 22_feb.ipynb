{
 "cells": [
  {
   "cell_type": "markdown",
   "id": "7dfa8e02-9acf-40cc-98f9-a1b713c03089",
   "metadata": {},
   "source": [
    "Q1. Create a Pandas Series that contains the following data: 4, 8, 15, 16, 23, and 42. Then, print the series."
   ]
  },
  {
   "cell_type": "code",
   "execution_count": 2,
   "id": "4da237b6-fc7e-4800-9493-b0202778b2cf",
   "metadata": {},
   "outputs": [
    {
     "data": {
      "text/plain": [
       "0     4\n",
       "1     8\n",
       "2    15\n",
       "3    16\n",
       "4    23\n",
       "dtype: int64"
      ]
     },
     "execution_count": 2,
     "metadata": {},
     "output_type": "execute_result"
    }
   ],
   "source": [
    "import pandas as pd\n",
    "data=pd.Series([4,8,15,16,23])\n",
    "data"
   ]
  },
  {
   "cell_type": "markdown",
   "id": "a867a6e9-0acd-42cb-bc6b-3fde408abfda",
   "metadata": {},
   "source": [
    "Q2. Create a variable of list type containing 10 elements in it, and apply pandas.Series function on the\n",
    "variable print it."
   ]
  },
  {
   "cell_type": "code",
   "execution_count": 3,
   "id": "1e7cba7d-12cc-4044-b354-acdc5de139f6",
   "metadata": {},
   "outputs": [
    {
     "data": {
      "text/plain": [
       "0     1\n",
       "1    23\n",
       "2     4\n",
       "3     5\n",
       "4     7\n",
       "5     2\n",
       "6    63\n",
       "7    45\n",
       "8     8\n",
       "9    12\n",
       "dtype: int64"
      ]
     },
     "execution_count": 3,
     "metadata": {},
     "output_type": "execute_result"
    }
   ],
   "source": [
    "l=[1,23,4,5,7,2,63,45,8,12]\n",
    "data=pd.Series(l)\n",
    "data"
   ]
  },
  {
   "cell_type": "markdown",
   "id": "b3ac9346-49fc-4be7-90e6-1b54c3e1e00a",
   "metadata": {},
   "source": [
    "Q3. Create a Pandas DataFrame that contains the following data:"
   ]
  },
  {
   "cell_type": "code",
   "execution_count": 4,
   "id": "0e3fcac8-ae34-4831-8451-0113ab778340",
   "metadata": {},
   "outputs": [
    {
     "data": {
      "text/html": [
       "<div>\n",
       "<style scoped>\n",
       "    .dataframe tbody tr th:only-of-type {\n",
       "        vertical-align: middle;\n",
       "    }\n",
       "\n",
       "    .dataframe tbody tr th {\n",
       "        vertical-align: top;\n",
       "    }\n",
       "\n",
       "    .dataframe thead th {\n",
       "        text-align: right;\n",
       "    }\n",
       "</style>\n",
       "<table border=\"1\" class=\"dataframe\">\n",
       "  <thead>\n",
       "    <tr style=\"text-align: right;\">\n",
       "      <th></th>\n",
       "      <th>Name</th>\n",
       "      <th>Age</th>\n",
       "      <th>Gender</th>\n",
       "    </tr>\n",
       "  </thead>\n",
       "  <tbody>\n",
       "    <tr>\n",
       "      <th>0</th>\n",
       "      <td>Alice</td>\n",
       "      <td>25</td>\n",
       "      <td>Female</td>\n",
       "    </tr>\n",
       "    <tr>\n",
       "      <th>1</th>\n",
       "      <td>Bob</td>\n",
       "      <td>30</td>\n",
       "      <td>Male</td>\n",
       "    </tr>\n",
       "    <tr>\n",
       "      <th>2</th>\n",
       "      <td>Claire</td>\n",
       "      <td>27</td>\n",
       "      <td>Female</td>\n",
       "    </tr>\n",
       "  </tbody>\n",
       "</table>\n",
       "</div>"
      ],
      "text/plain": [
       "     Name  Age  Gender\n",
       "0   Alice   25  Female\n",
       "1     Bob   30    Male\n",
       "2  Claire   27  Female"
      ]
     },
     "execution_count": 4,
     "metadata": {},
     "output_type": "execute_result"
    }
   ],
   "source": [
    "d={'Name':['Alice','Bob','Claire'],'Age':[25,30,27],'Gender':['Female','Male','Female']}\n",
    "data=pd.DataFrame(d)\n",
    "data"
   ]
  },
  {
   "cell_type": "markdown",
   "id": "5c155cd6-0acc-4672-9dce-b085d05da216",
   "metadata": {},
   "source": [
    "Q4. What is ‘DataFrame’ in pandas and how is it different from pandas.series? Explain with an example."
   ]
  },
  {
   "cell_type": "markdown",
   "id": "ff114bc3-a8c9-4325-ab1c-9ed82543447a",
   "metadata": {},
   "source": [
    "Ans. In Pandas, a DataFrame is a two-dimensional labeled data structure that resembles a table or spreadsheet. It consists of rows and columns, where each column can contain different data types (e.g., numbers, strings, dates) and is labeled with a unique column name. DataFrames are a fundamental data structure in Pandas and provide powerful capabilities for data manipulation, analysis, and cleaning.\n",
    "\n",
    "Series is a one-dimensional labeled array in Pandas. It can be thought of as a single column of a DataFrame. A Series can hold any data type and is also labeled with an index. Series are commonly used to represent a single feature or variable in a dataset."
   ]
  },
  {
   "cell_type": "code",
   "execution_count": 5,
   "id": "64ca29dc-6ebb-407e-af81-1817f11214ea",
   "metadata": {},
   "outputs": [
    {
     "name": "stdout",
     "output_type": "stream",
     "text": [
      "DataFrame:\n",
      "    Name  Age      City\n",
      "0   John   25  New York\n",
      "1  Alice   30    London\n",
      "2    Bob   35     Paris\n",
      "\n",
      "Series:\n",
      "0    25\n",
      "1    30\n",
      "2    35\n",
      "Name: Age, dtype: int64\n"
     ]
    }
   ],
   "source": [
    "import pandas as pd\n",
    "\n",
    "# Creating a DataFrame\n",
    "data = {'Name': ['John', 'Alice', 'Bob'],\n",
    "        'Age': [25, 30, 35],\n",
    "        'City': ['New York', 'London', 'Paris']}\n",
    "df = pd.DataFrame(data)\n",
    "\n",
    "# Creating a Series\n",
    "ages = pd.Series([25, 30, 35], name='Age')\n",
    "\n",
    "print(\"DataFrame:\")\n",
    "print(df)\n",
    "print(\"\\nSeries:\")\n",
    "print(ages)\n"
   ]
  },
  {
   "cell_type": "markdown",
   "id": "dc705757-bde8-42a2-ac8f-a118fdab7317",
   "metadata": {},
   "source": [
    "Q5. What are some common functions you can use to manipulate data in a Pandas DataFrame? Can\n",
    "you give an example of when you might use one of these functions?"
   ]
  },
  {
   "cell_type": "markdown",
   "id": "d57ba4a2-ec7c-47c6-b7b3-bda29085612e",
   "metadata": {},
   "source": [
    "Ans. Pandas provides a wide range of functions to manipulate and transform data in a DataFrame.\n",
    "\n",
    "1. head(): Returns the first n rows of the DataFrame. It is useful to quickly inspect the data and get a glimpse of the structure.\n",
    "\n",
    "2. tail(): Returns the last n rows of the DataFrame. It is useful to quickly check the end of the data.\n",
    "\n",
    "3. shape: Returns the dimensions (rows, columns) of the DataFrame.\n",
    "\n",
    "4. info(): Provides a concise summary of the DataFrame, including the data types, non-null values, and memory usage. It helps in understanding the structure of the data.\n",
    "\n",
    "5. describe(): Generates descriptive statistics of the DataFrame, such as count, mean, standard deviation, minimum, maximum, and quartile values for numerical columns.\n",
    "\n"
   ]
  },
  {
   "cell_type": "code",
   "execution_count": 10,
   "id": "3cb7c710-5f40-4309-802d-e122049abfe5",
   "metadata": {},
   "outputs": [
    {
     "name": "stdout",
     "output_type": "stream",
     "text": [
      "    Name  Age      City\n",
      "0   John   25  New York\n",
      "1  Alice   30    London\n",
      "2    Bob   35     Paris\n",
      "    Name  Age      City\n",
      "0   John   25  New York\n",
      "1  Alice   30    London\n",
      "2    Bob   35     Paris\n",
      "    Name  Age      City\n",
      "0   John   25  New York\n",
      "1  Alice   30    London\n",
      "2    Bob   35     Paris\n",
      "        Age\n",
      "count   3.0\n",
      "mean   30.0\n",
      "std     5.0\n",
      "min    25.0\n",
      "25%    27.5\n",
      "50%    30.0\n",
      "75%    32.5\n",
      "max    35.0\n"
     ]
    }
   ],
   "source": [
    "data = {'Name': ['John', 'Alice', 'Bob'],\n",
    "        'Age': [25, 30, 35],\n",
    "        'City': ['New York', 'London', 'Paris']}\n",
    "df = pd.DataFrame(data)\n",
    "print(df)\n",
    "print(df.tail())\n",
    "print(df.head())\n",
    "print(df.describe())"
   ]
  },
  {
   "cell_type": "markdown",
   "id": "f870b91a-183f-4797-9c57-3f4774de1ed4",
   "metadata": {},
   "source": [
    "Q6. Which of the following is mutable in nature Series, DataFrame, Panel?"
   ]
  },
  {
   "cell_type": "markdown",
   "id": "7b22f9f1-3458-4496-89aa-aa92ef11ea51",
   "metadata": {},
   "source": [
    "Ans. Series: Series objects in Pandas are mutable, meaning their values can be modified after creation. You can change the values, add or remove elements, or perform other operations that modify the underlying data within a Series.\n",
    "\n",
    "DataFrame: Similarly, DataFrame objects in Pandas are mutable. You can modify the values of individual cells, add or remove columns, and perform various data manipulation operations like sorting, filtering, or merging.\n",
    "\n",
    "Panel: However, the Panel data structure in Pandas is not mutable. Panels have been deprecated in recent versions of Pandas (since version 0.20.0) and are no longer recommended for use. It is suggested to use alternative data structures like multi-index DataFrames to handle multi-dimensional data."
   ]
  },
  {
   "cell_type": "markdown",
   "id": "cddfff08-5a62-436c-a9cf-a3d08e199894",
   "metadata": {},
   "source": [
    "Q7. Create a DataFrame using multiple Series. Explain with an example."
   ]
  },
  {
   "cell_type": "code",
   "execution_count": 17,
   "id": "b6eb4fa6-9311-44bf-a586-7509a1850241",
   "metadata": {},
   "outputs": [
    {
     "data": {
      "text/html": [
       "<div>\n",
       "<style scoped>\n",
       "    .dataframe tbody tr th:only-of-type {\n",
       "        vertical-align: middle;\n",
       "    }\n",
       "\n",
       "    .dataframe tbody tr th {\n",
       "        vertical-align: top;\n",
       "    }\n",
       "\n",
       "    .dataframe thead th {\n",
       "        text-align: right;\n",
       "    }\n",
       "</style>\n",
       "<table border=\"1\" class=\"dataframe\">\n",
       "  <thead>\n",
       "    <tr style=\"text-align: right;\">\n",
       "      <th></th>\n",
       "      <th>Names</th>\n",
       "      <th>Ages</th>\n",
       "      <th>City</th>\n",
       "    </tr>\n",
       "  </thead>\n",
       "  <tbody>\n",
       "    <tr>\n",
       "      <th>0</th>\n",
       "      <td>John</td>\n",
       "      <td>25</td>\n",
       "      <td>New York</td>\n",
       "    </tr>\n",
       "    <tr>\n",
       "      <th>1</th>\n",
       "      <td>Alice</td>\n",
       "      <td>30</td>\n",
       "      <td>London</td>\n",
       "    </tr>\n",
       "    <tr>\n",
       "      <th>2</th>\n",
       "      <td>Bob</td>\n",
       "      <td>35</td>\n",
       "      <td>Paris</td>\n",
       "    </tr>\n",
       "  </tbody>\n",
       "</table>\n",
       "</div>"
      ],
      "text/plain": [
       "   Names  Ages      City\n",
       "0   John    25  New York\n",
       "1  Alice    30    London\n",
       "2    Bob    35     Paris"
      ]
     },
     "execution_count": 17,
     "metadata": {},
     "output_type": "execute_result"
    }
   ],
   "source": [
    "import pandas as pd\n",
    "names = pd.Series(['John', 'Alice', 'Bob'])\n",
    "ages = pd.Series([25, 30, 35])\n",
    "cities = pd.Series(['New York', 'London', 'Paris'])\n",
    "data=pd.DataFrame({'Names' : names,'Ages' : ages,'City' : cities})\n",
    "data"
   ]
  },
  {
   "cell_type": "code",
   "execution_count": null,
   "id": "6e164044-fffb-4839-a379-5bef657870c2",
   "metadata": {},
   "outputs": [],
   "source": []
  }
 ],
 "metadata": {
  "kernelspec": {
   "display_name": "Python 3 (ipykernel)",
   "language": "python",
   "name": "python3"
  },
  "language_info": {
   "codemirror_mode": {
    "name": "ipython",
    "version": 3
   },
   "file_extension": ".py",
   "mimetype": "text/x-python",
   "name": "python",
   "nbconvert_exporter": "python",
   "pygments_lexer": "ipython3",
   "version": "3.10.8"
  }
 },
 "nbformat": 4,
 "nbformat_minor": 5
}
