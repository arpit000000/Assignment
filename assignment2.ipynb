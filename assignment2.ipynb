{
 "cells": [
  {
   "cell_type": "markdown",
   "id": "a1da4fcf-583f-45c0-9a57-84a965c84bb3",
   "metadata": {},
   "source": [
    "Ques.1 Write a program to accept percentage from the user and display the grade according to the following\n",
    "criteria:"
   ]
  },
  {
   "cell_type": "code",
   "execution_count": 1,
   "id": "05d1b4ef-ba3b-48d7-bc0b-d8069d7bef22",
   "metadata": {},
   "outputs": [
    {
     "name": "stdin",
     "output_type": "stream",
     "text": [
      "enter your percentage:  76\n"
     ]
    },
    {
     "name": "stdout",
     "output_type": "stream",
     "text": [
      "Grade B\n"
     ]
    }
   ],
   "source": [
    "#Question 1.\n",
    "\n",
    "per=int(input(\"enter your percentage: \"))\n",
    "if per>90:\n",
    "    print(\"Grade A\")\n",
    "elif per>80 and per<=90:\n",
    "    print(\"Grade B\")\n",
    "elif per>=60 and per<=80:\n",
    "    print(\"Grade B\")\n",
    "else:\n",
    "    print(\"Grade D\")"
   ]
  },
  {
   "cell_type": "markdown",
   "id": "e797f624-3b87-4e65-8a28-49c2cba375a6",
   "metadata": {},
   "source": [
    "Ques2. write a program to accept the. cost price of a bike. and display the road tax to be paid according to the\n",
    "following criteria:"
   ]
  },
  {
   "cell_type": "code",
   "execution_count": null,
   "id": "ade9f860-c798-459a-8c13-ed1a8f2d164b",
   "metadata": {},
   "outputs": [],
   "source": [
    "#Qestion 2.\n",
    "cp=int(input(\"enter bike peice: \"))\n",
    "if cp>100000:\n",
    "    print(\"road tax to be paid is 15%\")\n",
    "elif cp>50000 and cp<=100000:\n",
    "    print(\"road tax to be paid is 10%\")\n",
    "elif cp<=50000:\n",
    "    print(\"road tax to be paid is 5%\")\n",
    "    "
   ]
  },
  {
   "cell_type": "code",
   "execution_count": null,
   "id": "ca2cb2c2-db93-44e5-a6d5-c68a426f0b22",
   "metadata": {},
   "outputs": [],
   "source": [
    "Ques3."
   ]
  },
  {
   "cell_type": "code",
   "execution_count": null,
   "id": "09b9f2ca-7566-4e37-a7ec-4704b29bf345",
   "metadata": {},
   "outputs": [],
   "source": [
    "#question 3.\n",
    "city=input(\"enter a city: \")\n",
    "if city==\"Agra\":\n",
    "    print(\"Taj Mahal\")\n",
    "elif city==\"Jaipur\":\n",
    "    print(\"Jal Mahal\")\n",
    "elif city==\"Delhi\":\n",
    "    print(\"Red Fort\")\n",
    "    \n",
    "    "
   ]
  },
  {
   "cell_type": "markdown",
   "id": "d9b04e57-91ed-4979-b111-b8b7b0c3e353",
   "metadata": {},
   "source": [
    "Ques4. Check how many times a given number can be divided by 3 before it is less than or equal to 10."
   ]
  },
  {
   "cell_type": "code",
   "execution_count": 1,
   "id": "1a0d07b4-8052-4e11-8dd7-22aaf1caea1f",
   "metadata": {},
   "outputs": [
    {
     "name": "stdin",
     "output_type": "stream",
     "text": [
      " 77\n"
     ]
    },
    {
     "name": "stdout",
     "output_type": "stream",
     "text": [
      "2\n"
     ]
    }
   ],
   "source": [
    "#question 4\n",
    "n=int(input())\n",
    "c=0\n",
    "while n>=10:\n",
    "    n=n/3\n",
    "    c=c+1\n",
    "print(c)\n"
   ]
  },
  {
   "cell_type": "markdown",
   "id": "8945cc57-de62-48e6-8104-2904282a0858",
   "metadata": {},
   "source": [
    "#question 5 Why and When to Use while Loop in Python give a detailed description with example\n",
    "Ans. the while loop provide a mechanism to repeat one or more statements.while the particular condition is true.\n",
    "a control flow statement that allows code to be executed repeatedly based on a given Boolean condition.\n",
    "if the condition is never updated and the computer will run into an infinite loop.\n",
    "example- "
   ]
  },
  {
   "cell_type": "code",
   "execution_count": null,
   "id": "68f31b18-4d13-4df2-acd3-535e8f3031a9",
   "metadata": {},
   "outputs": [],
   "source": []
  },
  {
   "cell_type": "markdown",
   "id": "3b9b03a6-4637-4cd6-8fc9-8860a2c90095",
   "metadata": {},
   "source": [
    "Ques 6 Use nested while loop to print 3 difierenet pattern"
   ]
  },
  {
   "cell_type": "code",
   "execution_count": 1,
   "id": "23b837e2-7c84-449a-a70b-7e24fb225a6b",
   "metadata": {},
   "outputs": [
    {
     "name": "stdin",
     "output_type": "stream",
     "text": [
      "enter a no.  6\n"
     ]
    },
    {
     "name": "stdout",
     "output_type": "stream",
     "text": [
      "******\n",
      "*****\n",
      "****\n",
      "***\n",
      "**\n",
      "*\n"
     ]
    }
   ],
   "source": [
    "#question6\n",
    "#1\n",
    "n=int(input(\"enter a no. \"))\n",
    "i=1\n",
    "while i<=n:\n",
    "    j=i\n",
    "    while j<=n:\n",
    "        print(\"*\",end=\" \")\n",
    "        j+=1\n",
    "    print()\n",
    "    i+=1\n",
    "    \n",
    "    \n",
    "    \n"
   ]
  },
  {
   "cell_type": "code",
   "execution_count": 3,
   "id": "9420581f-55ea-4c2b-b411-a2370359a3c3",
   "metadata": {},
   "outputs": [
    {
     "name": "stdin",
     "output_type": "stream",
     "text": [
      "enter a no.  7\n"
     ]
    },
    {
     "name": "stdout",
     "output_type": "stream",
     "text": [
      "\n",
      "* * * * * * * \n",
      "\n",
      "* * * * * * * \n",
      "\n",
      "* * * * * * * \n",
      "\n",
      "* * * * * * * \n",
      "\n",
      "* * * * * * * \n",
      "\n",
      "* * * * * * * \n",
      "\n",
      "* * * * * * * \n"
     ]
    }
   ],
   "source": [
    "#2\n",
    "n=int(input(\"enter a no. \"))\n",
    "i=1\n",
    "while i<=n:\n",
    "    j=1\n",
    "    print()\n",
    "    while j<=n:\n",
    "        print(\"*\",end=\" \")\n",
    "        j+=1\n",
    "    print()\n",
    "    i+=1"
   ]
  },
  {
   "cell_type": "code",
   "execution_count": 2,
   "id": "20199d56-d54d-4183-b4b2-b95978d99d86",
   "metadata": {},
   "outputs": [
    {
     "name": "stdin",
     "output_type": "stream",
     "text": [
      "enter a no.  8\n"
     ]
    },
    {
     "name": "stdout",
     "output_type": "stream",
     "text": [
      "A A A A A A A A \n",
      "B B B B B B B B \n",
      "C C C C C C C C \n",
      "D D D D D D D D \n",
      "E E E E E E E E \n",
      "F F F F F F F F \n",
      "G G G G G G G G \n",
      "H H H H H H H H \n"
     ]
    }
   ],
   "source": [
    "#3\n",
    "n=int(input(\"enter a no. \"))\n",
    "i=1\n",
    "a=\"A\"\n",
    "while i<=n:\n",
    "    j=1\n",
    "    \n",
    "    while j<=n:\n",
    "        print(a,end=\" \")\n",
    "        j+=1\n",
    "    a=chr(ord(a)+1)\n",
    "    print()\n",
    "    i+=1"
   ]
  },
  {
   "cell_type": "markdown",
   "id": "e2c92f9e-6530-449b-b58f-58e0ece3e080",
   "metadata": {},
   "source": [
    "Ques.7 Reverse a while loop to display numbers from10 to 1"
   ]
  },
  {
   "cell_type": "code",
   "execution_count": 2,
   "id": "39f6a09c-7384-446c-8e76-8b95f2c4aa5c",
   "metadata": {},
   "outputs": [
    {
     "name": "stdout",
     "output_type": "stream",
     "text": [
      "10 9 8 7 6 5 4 3 2 1 "
     ]
    }
   ],
   "source": [
    "#question 7\n",
    "i=10\n",
    "while i>=1:\n",
    "    print(i,end=\" \")\n",
    "    i=i-1"
   ]
  },
  {
   "cell_type": "markdown",
   "id": "1788462a-13fb-4d80-ae7c-03a042076159",
   "metadata": {},
   "source": [
    "Ques.8 Reverse a while loop to display numbers from10 to 1"
   ]
  },
  {
   "cell_type": "code",
   "execution_count": null,
   "id": "3168d9bc-a3a9-42d1-9c35-c1710ae6964e",
   "metadata": {},
   "outputs": [],
   "source": [
    "#question 8\n",
    "i=10\n",
    "while i>=1:\n",
    "    print(i,end=\" \")\n",
    "    i=i-1"
   ]
  }
 ],
 "metadata": {
  "kernelspec": {
   "display_name": "Python 3 (ipykernel)",
   "language": "python",
   "name": "python3"
  },
  "language_info": {
   "codemirror_mode": {
    "name": "ipython",
    "version": 3
   },
   "file_extension": ".py",
   "mimetype": "text/x-python",
   "name": "python",
   "nbconvert_exporter": "python",
   "pygments_lexer": "ipython3",
   "version": "3.10.8"
  }
 },
 "nbformat": 4,
 "nbformat_minor": 5
}
